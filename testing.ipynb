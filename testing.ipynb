{
 "cells": [
  {
   "cell_type": "code",
   "execution_count": 145,
   "metadata": {
    "Collapsed": "false"
   },
   "outputs": [
    {
     "name": "stdout",
     "output_type": "stream",
     "text": [
      "The autoreload extension is already loaded. To reload it, use:\n",
      "  %reload_ext autoreload\n",
      "Device: Tesla P100-PCIE-12GB\n"
     ]
    }
   ],
   "source": [
    "%load_ext autoreload\n",
    "%autoreload 2\n",
    "\n",
    "import json\n",
    "import numpy as np\n",
    "import cv2\n",
    "import torch\n",
    "import torch.nn.functional as F\n",
    "import torch.nn as nn\n",
    "from torch.optim import Adam\n",
    "from time import time, sleep\n",
    "\n",
    "from utils import *\n",
    "from custom_pca import custom_pca\n",
    "from video_loader import VideoLoader\n",
    "from autoencoders import *\n",
    "\n",
    "seed = 42\n",
    "video_path = 'data_generated/R25_gray_scaled.mp4'\n",
    "\n",
    "video = VideoLoader(video_path, duration=30, gray=True)\n",
    "meta = {'w': video.width,\n",
    "        'h': video.height,\n",
    "        'fps': video.fps,\n",
    "        'bs': video.batch_size,\n",
    "        'gray': video.gray}\n",
    "\n",
    "device = torch.device('cuda' if torch.cuda.is_available() else 'cpu')\n",
    "if device.type == 'cuda':\n",
    "    print('Device:',torch.cuda.get_device_name(device))\n",
    "models = torch.load('data_generated/week7/models.pth', map_location=device)\n",
    "\n",
    "# Convert TempConvAE's weights\n",
    "d = models['10-TempConvAE']['model']\n",
    "d[\"to_lower_rep.weight\"] = d[\"low_dim_mapping.0.weight\"]\n",
    "d[\"to_lower_rep.bias\"] =   d[\"low_dim_mapping.0.bias\"]\n",
    "d[\"from_lower_rep.weight\"] = d[\"low_dim_mapping.1.weight\"]\n",
    "d[\"from_lower_rep.bias\"] = d[\"low_dim_mapping.1.bias\"]\n",
    "del d[\"low_dim_mapping.0.weight\"]\n",
    "del d[\"low_dim_mapping.0.bias\"]\n",
    "del d['low_dim_mapping.1.weight']\n",
    "del d['low_dim_mapping.1.bias']\n",
    "del models['10-OneHAE']['little_modification']"
   ]
  },
  {
   "cell_type": "markdown",
   "metadata": {},
   "source": [
    "## Compression models"
   ]
  },
  {
   "cell_type": "code",
   "execution_count": 2,
   "metadata": {
    "Collapsed": "false"
   },
   "outputs": [],
   "source": [
    "def compression_train_helper(model_key, base_model, model_args, video, lrs, models, num_epoch_tune=10, num_epoch=40):\n",
    "    iteration_per_epoch = int(video.duration_frames/video.batch_size)\n",
    "    device = torch.device('cuda' if torch.cuda.is_available() else 'cpu')\n",
    "    print('Using device', device)\n",
    "    if device.type == 'cuda':\n",
    "        print(torch.cuda.get_device_name(0))\n",
    "\n",
    "    losses_tune = []\n",
    "    for lr in lrs:\n",
    "        if len(lrs) == 1:\n",
    "            losses_tune.append(0)\n",
    "            break\n",
    "        torch.manual_seed(seed)\n",
    "        np.random.seed(seed)\n",
    "        model = base_model(*model_args).to(device)\n",
    "        optimizer = Adam(model.parameters(), lr=lr)\n",
    "        for epoch in range(num_epoch_tune):\n",
    "            epoch_loss = 0\n",
    "            for frames in video:\n",
    "                frames = frames.to(device)\n",
    "                reconstructed = model(frames)\n",
    "                loss = crit(frames, reconstructed)\n",
    "\n",
    "                optimizer.zero_grad()\n",
    "                loss.backward()\n",
    "                optimizer.step()\n",
    "                epoch_loss += loss.item()\n",
    "        losses_tune.append(epoch_loss / iteration_per_epoch)\n",
    "        if len(losses_tune) >= 2 and losses_tune[-1] > losses_tune[-2]:\n",
    "            break\n",
    "    lr = lrs[np.argmin(losses_tune)]\n",
    "    print('Chosen learning rate:', lr)\n",
    "    torch.manual_seed(seed)\n",
    "    np.random.seed(seed)\n",
    "    model = base_model(*model_args).to(device)\n",
    "    optimizer = Adam(model.parameters(), lr=lr)\n",
    "\n",
    "    t1 = time()\n",
    "    losses = []\n",
    "    for epoch in range(num_epoch):\n",
    "        epoch_loss = 0\n",
    "        for frames in video:\n",
    "            frames = frames.to(device)\n",
    "            reconstructed = model(frames)\n",
    "            loss = crit(frames, reconstructed)\n",
    "\n",
    "            optimizer.zero_grad()\n",
    "            loss.backward()\n",
    "            optimizer.step()\n",
    "            epoch_loss += loss.item()\n",
    "        losses.append(epoch_loss / iteration_per_epoch)\n",
    "        if (epoch+1) % 3 == 0:\n",
    "            print(f'\\t Error at epoch {epoch+1}:', losses[-1])\n",
    "\n",
    "    model_dict = {\n",
    "        'model': model.state_dict(),\n",
    "        'epoch': num_epoch,\n",
    "        'optimizer': optimizer.state_dict(),\n",
    "        'lr': lr,\n",
    "        'losses_tune': losses_tune,\n",
    "        'lrs': lrs,\n",
    "        'losses': losses,\n",
    "        'epoch_time': (time()-t1)/num_epoch\n",
    "    }\n",
    "    models[model_key] = model_dict\n",
    "    return model\n",
    "\n",
    "def evaluate_model(model, model_key, models, meta):\n",
    "    reconstructed_train = video_train.reduce_latent(model, trans=False)\n",
    "    reconstructed_test = video_test.reduce_latent(model, trans=False)\n",
    "    original_frames_train_ = original_frames_train.numpy().reshape(-1, *video_train.sample_shape)\n",
    "    original_frames_test_  = original_frames_test.numpy().reshape(-1, *video_test.sample_shape)\n",
    "    models[key]['train_error'] = reconstruction_error(original_frames_train_, reconstructed_train.numpy())\n",
    "    models[key]['test_error'] = reconstruction_error(original_frames_test_, reconstructed_test.numpy())\n",
    "    print('Training error:', models[key]['train_error'])\n",
    "    print('Testing error:', models[key]['test_error'])\n",
    "    reconstructed_train_ = reconstructed_train.numpy().reshape(-1, video_train.height, video_train.width)\n",
    "    write_video(key+'.mp4', reconstructed_train_, meta['w'], meta['h'], meta['fps'], meta['gray'])\n",
    "    print('Video for '+key+' written')\n",
    "\n",
    "video_train = VideoLoader(video_path, duration=30, gray=True)\n",
    "video_test =  VideoLoader(video_path, start=30, duration=10, gray=True)\n",
    "meta = {'w': video_train.width,\n",
    "        'h': video_train.height,\n",
    "        'fps': video_train.fps,\n",
    "        'bs': video_train.batch_size,\n",
    "        'gray': video_train.gray}\n",
    "original_frames_train = video_train.get_all_frames()\n",
    "original_frames_test = video_test.get_all_frames()\n",
    "num_epoch, num_epoch_tune = 40, 10\n",
    "\n",
    "_ = \"\"\"\n",
    "############   PCA autoencoder   ############\n",
    "lrs = [1e-05, 5e-05, 1e-04]\n",
    "key = '50-PCAAE'\n",
    "print('\\nModel', key)\n",
    "video_train.sample_shape = video_test.sample_shape = (1, meta['h'], meta['w'])\n",
    "model = compression_train_helper(key, PCAAutoEncoder, ((1, meta['w'], meta['h']), 50), video_train,\n",
    "                           lrs, models, num_epoch=50)\n",
    "\n",
    "evaluate_model(model, key, models, meta)\n",
    "\n",
    "############ One hidden layer AE ############\n",
    "key = '10-OneHAE'\n",
    "print('\\nModel', key)\n",
    "lrs = [1e-5, 5e-5, 1e-4, 5e-4, 1e-3]\n",
    "video_train.sample_shape = video_test.sample_shape = (1, meta['h'], meta['w'])\n",
    "model = compression_train_helper(key, OneHAutoEncoder, ((1, meta['h'], meta['w']), 10), video_train,\n",
    "                          lrs, models)\n",
    "\n",
    "evaluate_model(model, key, models, meta)\n",
    "\n",
    "############   Temporal Conv AE   ############\n",
    "key = 'TempConvAE'\n",
    "print('\\nModel', key)\n",
    "video_train.sample_shape = video_test.sample_shape = (1, 16, meta['h'], meta['w'])\n",
    "model = compression_train_helper(key, TemporalConvAE, (1, 2, 32), video_train, lrs, models)\n",
    "\n",
    "evaluate_model(model, key, models, meta)\n",
    "\n",
    "############  160-Temporal Conv AE  ############\n",
    "key = '10-TempConvAE'\n",
    "print('\\nModel', key)\n",
    "video_train.sample_shape = video_test.sample_shape = (1, 16, meta['h'], meta['w'])\n",
    "model = train_helper(key, TemporalConvAE, (1, 2, 32, 160), video_train, lrs, models)\n",
    "\n",
    "evaluate_model(model, key, models, meta)\n",
    "\"\"\""
   ]
  },
  {
   "cell_type": "markdown",
   "metadata": {},
   "source": [
    "## Classification algorithm"
   ]
  },
  {
   "cell_type": "markdown",
   "metadata": {},
   "source": [
    "#### Model comparison\n",
    "\n",
    "A model is a tuple: the compression model and the dynamical system. The compression model is either a model with a `C` attribute being the matrix of projection or a non-linear compression model in which case the `C` matrix associated with it will be $I_{p \\times n}$\n",
    "\n",
    "For now the bias in the dynamical system are ignored"
   ]
  },
  {
   "cell_type": "code",
   "execution_count": 160,
   "metadata": {},
   "outputs": [
    {
     "data": {
      "text/plain": [
       "array([0.058563  , 0.038213  , 0.03299011, 0.03039991, 0.02452698,\n",
       "       0.01096707, 0.01312446, 0.01989882, 0.01622211, 0.01752454,\n",
       "       0.058563  , 0.038213  , 0.03299011, 0.03039991, 0.02452698,\n",
       "       0.01096707, 0.01312446, 0.01989882, 0.01622211, 0.01752454])"
      ]
     },
     "execution_count": 160,
     "metadata": {},
     "output_type": "execute_result"
    }
   ],
   "source": [
    "# Model definition\n",
    "\n",
    "## Baseline, separated learning\n",
    "video.torch = False\n",
    "all_frames = video.get_all_frames().reshape(video.duration_frames, -1)\n",
    "\n",
    "model_pca = custom_pca(10)\n",
    "model_pca.fit(all_frames)\n",
    "frames_enc, shape = model_pca.encode(all_frames)\n",
    "A = np.linalg.pinv(frames_enc[:-1])@frames_enc[1:]\n",
    "model1 = (model_pca, A)\n",
    "\n",
    "## Baseline as autoencoder (Created and trained below)\n",
    "model2 = (model, model_ds)\n",
    "\n",
    "subspace_angles(model1, model2, A2_key='predictor.weight', C2_key='from_lower_rep.weight')"
   ]
  },
  {
   "cell_type": "markdown",
   "metadata": {
    "Collapsed": "false"
   },
   "source": [
    "## Dynamical system models"
   ]
  },
  {
   "cell_type": "markdown",
   "metadata": {},
   "source": [
    "### Baseline"
   ]
  },
  {
   "cell_type": "code",
   "execution_count": 137,
   "metadata": {},
   "outputs": [],
   "source": [
    "video.torch = False\n",
    "all_frames = video.get_all_frames().reshape(video.duration_frames, -1)\n",
    "\n",
    "model_pca = custom_pca(10)\n",
    "model_pca.fit(all_frames)"
   ]
  },
  {
   "cell_type": "code",
   "execution_count": 138,
   "metadata": {},
   "outputs": [
    {
     "name": "stdout",
     "output_type": "stream",
     "text": [
      "(960, 10) (10, 10)\n"
     ]
    }
   ],
   "source": [
    "frames_enc, shape = model_pca.encode(all_frames)\n",
    "A = np.linalg.pinv(frames_enc[:-1])@frames_enc[1:]\n",
    "print(frames_enc.shape, A.shape)"
   ]
  },
  {
   "cell_type": "code",
   "execution_count": 139,
   "metadata": {},
   "outputs": [
    {
     "name": "stdout",
     "output_type": "stream",
     "text": [
      "Error on prediction: 8.326775\n",
      "Error on reconstruction: 8.126883\n"
     ]
    }
   ],
   "source": [
    "Y_pred = model_pca.decode(frames_enc[:-1]@A)\n",
    "error_pca = reconstruction_error(Y_pred, all_frames[1:])\n",
    "print('Error on prediction:', error_pca)\n",
    "print('Error on reconstruction:', reconstruction_error(all_frames, model_pca.decode(frames_enc)))"
   ]
  },
  {
   "cell_type": "markdown",
   "metadata": {},
   "source": [
    "### PCA jointly optimized, initialized with the baseline transformation"
   ]
  },
  {
   "cell_type": "code",
   "execution_count": 140,
   "metadata": {},
   "outputs": [],
   "source": [
    "class FramePredictor(nn.Module):\n",
    "    def __init__(self, model):\n",
    "        super().__init__()\n",
    "        self.predictor = nn.Linear(model.ncomp, model.ncomp)\n",
    "\n",
    "    def forward(self, x):\n",
    "        shape = x.shape\n",
    "        x = self.predictor(x.view(x.shape[0], -1))\n",
    "\n",
    "        return x.view(shape)"
   ]
  },
  {
   "cell_type": "markdown",
   "metadata": {},
   "source": [
    "#### Initialization as PCA"
   ]
  },
  {
   "cell_type": "code",
   "execution_count": 141,
   "metadata": {},
   "outputs": [],
   "source": [
    "video = VideoLoader(video_path, duration=30, gray=True)\n",
    "iteration_per_epoch = int(video.duration_frames/video.batch_size)\n",
    "model = PCAAutoEncoder((1, meta['h'], meta['w']), 10).to(device)\n",
    "\n",
    "state_dict = model.state_dict()\n",
    "state_dict['to_lower_rep.weight'] = torch.from_numpy(model_pca.C.T).to(device)\n",
    "state_dict['to_lower_rep.bias'] = torch.zeros_like(state_dict['to_lower_rep.bias'])\n",
    "state_dict['from_lower_rep.weight'] = torch.from_numpy(model_pca.C).to(device)\n",
    "state_dict['from_lower_rep.bias'] = torch.zeros_like(state_dict['from_lower_rep.bias'])\n",
    "model.load_state_dict(state_dict)\n",
    "model_ds = FramePredictor(model).to(device)\n",
    "state_dict = model_ds.state_dict()\n",
    "state_dict['predictor.weight'] = torch.from_numpy(A.T).to(device)\n",
    "state_dict['predictor.bias'] = torch.zeros_like(state_dict['predictor.bias'])\n",
    "model_ds.load_state_dict(state_dict)\n",
    "mean,std = model_pca.mean, model_pca.std"
   ]
  },
  {
   "cell_type": "markdown",
   "metadata": {},
   "source": [
    "#### Verification of the error"
   ]
  },
  {
   "cell_type": "code",
   "execution_count": 8,
   "metadata": {},
   "outputs": [
    {
     "name": "stdout",
     "output_type": "stream",
     "text": [
      "Error on reconstruction: 8.105321884155273\n"
     ]
    }
   ],
   "source": [
    "frames_rec = []\n",
    "for frames in video:\n",
    "    frames = standardize_frames(frames, mean=model_pca.mean, std=model_pca.std).to(device)\n",
    "    frames_rec.append(model(frames))\n",
    "frames_rec = torch.cat(frames_rec, 0)*model_pca.std+model_pca.mean\n",
    "\n",
    "print('Error on reconstruction:', crit(frames_rec.squeeze().to('cpu'), video.get_all_frames()).item())"
   ]
  },
  {
   "cell_type": "code",
   "execution_count": 9,
   "metadata": {},
   "outputs": [
    {
     "name": "stdout",
     "output_type": "stream",
     "text": [
      "Error on prediction: 8.305706024169922\n"
     ]
    }
   ],
   "source": [
    "frames_pred = []\n",
    "for frames in video:\n",
    "    frames = standardize_frames(frames, mean=model_pca.mean, std=model_pca.std).to(device)\n",
    "    enc = model.encode(frames)\n",
    "    frames_pred.append(model.decode(model_ds(enc)))\n",
    "frames_pred = torch.cat(frames_pred, 0)*model_pca.std+model_pca.mean\n",
    "frames_pred = frames_pred[:-1]\n",
    "\n",
    "print('Error on prediction:', crit(frames_pred.squeeze().to('cpu'), video.get_all_frames()[1:]).item())"
   ]
  },
  {
   "cell_type": "markdown",
   "metadata": {},
   "source": [
    "#### Fine-tuning of the model"
   ]
  },
  {
   "cell_type": "code",
   "execution_count": 142,
   "metadata": {},
   "outputs": [
    {
     "name": "stdout",
     "output_type": "stream",
     "text": [
      "Epoch 1: 8.1148832321167\n",
      "Epoch 6: 8.06935354868571\n",
      "Epoch 11: 8.062978903452555\n",
      "Epoch 16: 8.061997191111248\n"
     ]
    },
    {
     "data": {
      "image/png": "[encoded data removed]",
      "text/plain": [
       "<Figure size 1080x720 with 1 Axes>"
      ]
     },
     "metadata": {
      "needs_background": "light"
     },
     "output_type": "display_data"
    }
   ],
   "source": [
    "# Joint training\n",
    "np.random.seed(seed)\n",
    "torch.manual_seed(seed)\n",
    "optimizer_both = Adam(list(model.parameters())+list(model_ds.parameters()), lr=0.00001)\n",
    "\n",
    "losses_pcaae = []\n",
    "for epoch in range(20):\n",
    "    epoch_loss = 0\n",
    "    for frames in video:\n",
    "        frames = frames.to(device)\n",
    "        frames_std = standardize_frames(frames, mean=mean, std=std)\n",
    "        frames_next_gt = frames[1:]\n",
    "        frames_enc = model.encode(frames_std[:-1])\n",
    "        frames_next_std = model.decode(model_ds(frames_enc))\n",
    "        frames_next = frames_next_std*std + mean\n",
    "\n",
    "        loss = crit(frames_next, frames_next_gt)\n",
    "        epoch_loss += loss.item()\n",
    "\n",
    "        optimizer_both.zero_grad()\n",
    "        loss.backward()\n",
    "        optimizer_both.step()\n",
    "    losses_pcaae.append(epoch_loss/iteration_per_epoch)\n",
    "    if epoch % 5 == 0:\n",
    "        print(f'Epoch {epoch+1}:', epoch_loss/iteration_per_epoch)\n",
    "plot(range(20), [20*[8.326775], losses_pcaae], xlabel='Epoch', ylabel='Loss of prediction')"
   ]
  },
  {
   "cell_type": "markdown",
   "metadata": {},
   "source": [
    "### Using OneH network for compression"
   ]
  },
  {
   "cell_type": "markdown",
   "metadata": {},
   "source": [
    "#### One hidden layer autoencoder with initialization as after training of compression model"
   ]
  },
  {
   "cell_type": "code",
   "execution_count": 68,
   "metadata": {},
   "outputs": [
    {
     "name": "stdout",
     "output_type": "stream",
     "text": [
      "Training transition matrix\n",
      "Epoch 1: 128.7869074503581\n",
      "Epoch 6: 14.27553939819336\n",
      "Training transition matrix and compression model\n",
      "Epoch 11: 64.07721532185873 (optimizing compression model)\n",
      "Epoch 16: 15.054534339904786 (optimizing dynamical system)\n",
      "Epoch 21: 15.604681015014648 (optimizing compression model)\n",
      "Epoch 26: 14.407950973510742 (optimizing dynamical system)\n",
      "Epoch 31: 14.294347890218098 (optimizing compression model)\n",
      "Epoch 36: 13.958980178833007 (optimizing dynamical system)\n",
      "Epoch 41: 13.951625951131184 (optimizing compression model)\n",
      "Epoch 46: 13.742918777465821 (optimizing dynamical system)\n",
      "Epoch 51: 13.756185658772786 (optimizing compression model)\n"
     ]
    },
    {
     "data": {
      "image/png": "[encoded data removed]",
      "text/plain": [
       "<Figure size 1080x720 with 1 Axes>"
      ]
     },
     "metadata": {
      "needs_background": "light"
     },
     "output_type": "display_data"
    }
   ],
   "source": [
    "np.random.seed(seed)\n",
    "torch.manual_seed(seed)\n",
    "video = VideoLoader(video_path, duration=30, gray=True)\n",
    "iteration_per_epoch = int(video.duration_frames/video.batch_size)\n",
    "\n",
    "model = OneHAutoEncoder((1, meta['h'], meta['w']), 10)\n",
    "model.load_state_dict(models['10-OneHAE']['model'])\n",
    "model.to(device)\n",
    "model_ds = FramePredictor(model).to(device)\n",
    "optimizer_ds = Adam(model_ds.parameters(), lr=0.005)\n",
    "\n",
    "losses_oneh = []\n",
    "epoch_ds, epoch_tot = 7, 51\n",
    "print('Training transition matrix')\n",
    "for epoch in range(epoch_ds):\n",
    "    epoch_loss = 0\n",
    "    for frames in video:\n",
    "        frames = frames.to(device)\n",
    "        frames_next_gt = frames[1:]\n",
    "        frames_enc = model.encode(frames[:-1])\n",
    "        frames_next = model.decode(model_ds(frames_enc))\n",
    "\n",
    "        loss = crit(frames_next.squeeze(), frames_next_gt)\n",
    "        epoch_loss += loss.item()\n",
    "\n",
    "        optimizer_ds.zero_grad()\n",
    "        loss.backward()\n",
    "        optimizer_ds.step()\n",
    "    losses_oneh.append(epoch_loss/iteration_per_epoch)\n",
    "    if epoch % 5 == 0:\n",
    "        print(f'Epoch {epoch+1}:', epoch_loss/iteration_per_epoch)\n",
    "\n",
    "optimizer = Adam(model.parameters(), lr=models['10-OneHAE']['lr'])\n",
    "optimizer.load_state_dict(models['10-OneHAE']['optimizer'])\n",
    "optimizer_ds = Adam(model_ds.parameters(), lr=0.0005)\n",
    "current_opt, current_opt_descr = optimizer_ds, 'dynamical system'\n",
    "other_opt, other_opt_descr = optimizer, 'compression model'\n",
    "print('Training transition matrix and compression model')\n",
    "for epoch in range(epoch_ds, epoch_tot):\n",
    "    epoch_loss = 0\n",
    "    if epoch % 5 == 0:\n",
    "        current_opt, other_opt = other_opt, current_opt\n",
    "        current_opt_descr, other_opt_descr = other_opt_descr, current_opt_descr\n",
    "    for frames in video:\n",
    "        frames = frames.to(device)\n",
    "        frames_std = standardize_frames(frames, mean=mean, std=std)\n",
    "        frames_next_gt = frames[1:]\n",
    "        frames_enc = model.encode(frames_std[:-1])\n",
    "        frames_next_std = model.decode(model_ds(frames_enc))\n",
    "        frames_next = frames_next_std*std + mean\n",
    "\n",
    "        loss = crit(frames_next, frames_next_gt)\n",
    "        epoch_loss += loss.item()\n",
    "\n",
    "        current_opt.zero_grad()\n",
    "        loss.backward()\n",
    "        current_opt.step()\n",
    "    losses_oneh.append(epoch_loss/iteration_per_epoch)\n",
    "    if epoch % 5 == 0:\n",
    "        print(f'Epoch {epoch+1}:', epoch_loss/iteration_per_epoch, f'(optimizing {current_opt_descr})')\n",
    "plot(range(epoch_tot), [epoch_tot*[8.326775], losses_oneh], xlabel='Epoch', ylabel='Loss of prediction')"
   ]
  },
  {
   "cell_type": "markdown",
   "metadata": {},
   "source": [
    "### Using spatio-temporal convolutional network for compression"
   ]
  },
  {
   "cell_type": "markdown",
   "metadata": {},
   "source": [
    "#### Train with initialization as after training of compression model"
   ]
  },
  {
   "cell_type": "code",
   "execution_count": 69,
   "metadata": {},
   "outputs": [
    {
     "name": "stdout",
     "output_type": "stream",
     "text": [
      "Training transition matrix\n",
      "Epoch 1: 46.305629229141495\n",
      "Epoch 6: 14.932292162361792\n",
      "Training transition matrix and compression model\n",
      "Epoch 11: 15.25699321294235 (optimizing compression model)\n",
      "Epoch 16: 15.133763814376572 (optimizing compression model)\n",
      "Epoch 21: 15.039607694593526 (optimizing compression model)\n",
      "Epoch 26: 14.963500459315414 (optimizing compression model)\n",
      "Epoch 31: 14.899821394580906 (optimizing compression model)\n",
      "Epoch 36: 14.846452405897237 (optimizing compression model)\n",
      "Epoch 41: 14.801777435561357 (optimizing compression model)\n",
      "Epoch 46: 14.762775776749951 (optimizing compression model)\n"
     ]
    },
    {
     "data": {
      "image/png": "[encoded data removed]",
      "text/plain": [
       "<Figure size 1080x720 with 1 Axes>"
      ]
     },
     "metadata": {
      "needs_background": "light"
     },
     "output_type": "display_data"
    }
   ],
   "source": [
    "np.random.seed(seed)\n",
    "torch.manual_seed(seed)\n",
    "video.torch = True\n",
    "temporal_batch_size = 16\n",
    "video.sample_shape = (1, temporal_batch_size, meta['h'], meta['w'])\n",
    "video.iterator_stride = 1\n",
    "video.batch_size = 16\n",
    "iteration_per_epoch = video.duration_frames-video.batch_size\n",
    "\n",
    "model = TemporalConvAE(1, 2, 32, 10)\n",
    "model.load_state_dict(models['10-TempConvAE']['model'])\n",
    "model.to(device)\n",
    "model_ds = FramePredictor(model).to(device)\n",
    "optimizer = Adam(list(model.parameters())+list(model_ds.parameters()), lr=0.0001)\n",
    "optimizer_ds = Adam(model_ds.parameters(), lr=0.005)\n",
    "\n",
    "losses_tempconv = []\n",
    "epoch_ds, epoch_tot = 7, 50\n",
    "print('Training transition matrix')\n",
    "for epoch in range(epoch_ds):\n",
    "    epoch_loss = 0\n",
    "    cnt = 0\n",
    "    x_prev = None\n",
    "    loss = 0\n",
    "    for i, frames in enumerate(video):\n",
    "        frames = frames.to(device)\n",
    "        x = model.encode(frames)\n",
    "        if x_prev is None:\n",
    "            x_prev = x.detach()\n",
    "            continue\n",
    "        x_pred = model_ds(x_prev)\n",
    "        loss = loss + crit(model.decode(x_pred), frames)\n",
    "        cnt += 1\n",
    "        x_pred = x.detach()\n",
    "\n",
    "        if (i+1) % video.batch_size == 0:\n",
    "            optimizer_ds.zero_grad()\n",
    "\n",
    "            loss.backward(retain_graph=True)\n",
    "            epoch_loss += loss.item()\n",
    "            loss = 0\n",
    "            optimizer_ds.step()\n",
    "    losses_tempconv.append(epoch_loss/iteration_per_epoch)\n",
    "    if epoch % 5 == 0:\n",
    "        print(f'Epoch {epoch+1}:', epoch_loss/iteration_per_epoch)\n",
    "\n",
    "print('Training transition matrix and compression model')\n",
    "for epoch in range(epoch_ds, epoch_tot):\n",
    "    epoch_loss = 0\n",
    "    cnt = 0\n",
    "    x_prev = None\n",
    "    loss = 0\n",
    "    for i, frames in enumerate(video):\n",
    "        frames = frames.to(device)\n",
    "        x = model.encode(frames)\n",
    "        if x_prev is None:\n",
    "            x_prev = x.detach()\n",
    "            continue\n",
    "        x_pred = model_ds(x_prev)\n",
    "        loss = loss + crit(model.decode(x_pred), frames)\n",
    "        cnt += 1\n",
    "        x_pred = x.detach()\n",
    "\n",
    "        if (i+1) % video.batch_size == 0:\n",
    "            optimizer.zero_grad()\n",
    "\n",
    "            loss.backward(retain_graph=True)\n",
    "            epoch_loss += loss.item()\n",
    "            loss = 0\n",
    "            optimizer.step()\n",
    "\n",
    "    losses_tempconv.append(epoch_loss/iteration_per_epoch)\n",
    "    if epoch % 5 == 0:\n",
    "        print(f'Epoch {epoch+1}:', epoch_loss/iteration_per_epoch, f'(optimizing {current_opt_descr})')\n",
    "\"\"\"\n",
    "\n",
    "optimizer = Adam(model.parameters(), lr=models['10-TempConvAE']['lr'])\n",
    "optimizer.load_state_dict(models['10-TempConvAE']['optimizer'])\n",
    "optimizer_ds = Adam(model_ds.parameters(), lr=0.0005)\n",
    "current_opt, current_opt_descr = optimizer_ds, 'dynamical system'\n",
    "other_opt, other_opt_descr = optimizer, 'compression model'\n",
    "for epoch in range(num_epoch):\n",
    "    epoch_loss = 0\n",
    "    if epoch % 5 == 0:\n",
    "        current_opt, other_opt = other_opt, current_opt\n",
    "        current_opt_descr, other_opt_descr = other_opt_descr, current_opt_descr\n",
    "\n",
    "    epoch_loss = 0\n",
    "    cnt = 0\n",
    "    x_prev = None\n",
    "    loss = 0\n",
    "    for i, frames in enumerate(video):\n",
    "        frames = frames.to(device)\n",
    "        x = model.encode(frames)\n",
    "        if x_prev is None:\n",
    "            x_prev = x.detach()\n",
    "            continue\n",
    "        x_pred = model_ds(x_prev)\n",
    "        loss = loss + crit(model.decode(x_pred), frames)\n",
    "        cnt += 1\n",
    "        x_pred = x.detach()\n",
    "\n",
    "        if (i+1) % video.batch_size == 0:\n",
    "            #print(next(model.parameters())[0,0,0,0], next(model_ds.parameters())[0,0])\n",
    "            #print(i)\n",
    "            optimizer.zero_grad()\n",
    "\n",
    "            loss.backward(retain_graph=True)\n",
    "            epoch_loss += loss.item()\n",
    "            loss = 0\n",
    "            optimizer.step()\n",
    "\n",
    "    print(epoch_loss/iteration_per_epoch)\n",
    "\"\"\"\n",
    "plot(range(epoch_tot), [epoch_tot*[8.326775], losses_tempconv], xlabel='Epoch', ylabel='Loss of prediction')"
   ]
  },
  {
   "cell_type": "markdown",
   "metadata": {},
   "source": [
    "## Save losses"
   ]
  },
  {
   "cell_type": "code",
   "execution_count": 73,
   "metadata": {},
   "outputs": [],
   "source": [
    "losses = {}\n",
    "for k, v in [('10-PCAAE', losses_pcaae), ('10-OneHAE', losses_oneh), ('10-TempConvAE', losses_tempconv)]:\n",
    "    losses[k] = v\n",
    "torch.save(losses, 'data_generated/week8/losses.pth')"
   ]
  }
 ],
 "metadata": {
  "kernelspec": {
   "display_name": "Python 3",
   "language": "python",
   "name": "python3"
  },
  "language_info": {
   "codemirror_mode": {
    "name": "ipython",
    "version": 3
   },
   "file_extension": ".py",
   "mimetype": "text/x-python",
   "name": "python",
   "nbconvert_exporter": "python",
   "pygments_lexer": "ipython3",
   "version": "3.7.6"
  }
 },
 "nbformat": 4,
 "nbformat_minor": 4
}
