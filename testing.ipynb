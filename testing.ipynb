{
 "cells": [
  {
   "cell_type": "code",
   "execution_count": 18,
   "metadata": {
    "Collapsed": "false"
   },
   "outputs": [
    {
     "name": "stdout",
     "output_type": "stream",
     "text": [
      "The autoreload extension is already loaded. To reload it, use:\n",
      "  %reload_ext autoreload\n"
     ]
    }
   ],
   "source": [
    "%load_ext autoreload\n",
    "%autoreload 2\n",
    "\n",
    "import numpy as np\n",
    "import torch\n",
    "import cv2\n",
    "from time import time, sleep\n",
    "from sklearn.decomposition import IncrementalPCA\n",
    "\n",
    "from utils import *"
   ]
  },
  {
   "cell_type": "markdown",
   "metadata": {
    "Collapsed": "false"
   },
   "source": [
    "### SVD runtime"
   ]
  },
  {
   "cell_type": "code",
   "execution_count": 13,
   "metadata": {
    "Collapsed": "false"
   },
   "outputs": [
    {
     "name": "stdout",
     "output_type": "stream",
     "text": [
      "Video loading...\n",
      "Loaded video of 20.0 seconds with quality 960x540 in 0.82 seconds\n",
      "Transforming the video...\n",
      "Fitting of the scipy SVD model took 20.05 seconds\n",
      "Fitting of the truncated SVD model took 22.52 seconds\n",
      "Fitting of the randomized SVD model took 18.98 seconds\n"
     ]
    }
   ],
   "source": [
    "# SVD comparison on 20s grayscale\n",
    "from sklearn.utils.extmath import randomized_svd\n",
    "from sklearn.decomposition import TruncatedSVD\n",
    "from scipy.sparse.linalg import svds\n",
    "\n",
    "print('Video loading...')\n",
    "# Read the video\n",
    "start = time()\n",
    "sample_name = 'sample20s_540'\n",
    "frames, fps, width, height = read_video('data_generated/'+sample_name+'.mp4')\n",
    "nframes = frames.shape[0]\n",
    "print(f'Loaded video of {round(nframes/fps, 2)} seconds with quality {width}x{height} in {round(time()-start,2)} seconds')\n",
    "\n",
    "# Convert to gray scale\n",
    "print('Transforming the video...')\n",
    "gray_frames = np.zeros((nframes, height, width), dtype=np.uint8)\n",
    "for i, frame in enumerate(frames):\n",
    "    gray_frames[i] = cv2.cvtColor(frame, cv2.COLOR_BGR2GRAY)\n",
    "\n",
    "# Fit a SVD model\n",
    "start = time()\n",
    "u, s, vh = svds(gray_frames.reshape(gray_frames.shape[0], -1).astype(float), k=50)\n",
    "after_fit = time()\n",
    "after_transformations = time()\n",
    "print(f'Fitting of the scipy SVD model took {round(after_fit-start,2)} seconds')\n",
    "svd_model = TruncatedSVD(n_components=50)\n",
    "start = time()\n",
    "u, s, vh = svd_model.fit(gray_frames.reshape(gray_frames.shape[0], -1))\n",
    "after_fit = time()\n",
    "after_transformations = time()\n",
    "print(f'Fitting of the truncated SVD model took {round(after_fit-start,2)} seconds')\n",
    "start = time()\n",
    "u, s, vh = randomized_svd(gray_frames.reshape(gray_frames.shape[0], -1), 50)\n",
    "after_fit = time()\n",
    "after_transformations = time()\n",
    "print(f'Fitting of the randomized SVD model took {round(after_fit-start,2)} seconds')"
   ]
  },
  {
   "cell_type": "markdown",
   "metadata": {
    "Collapsed": "false"
   },
   "source": [
    "Numpy's SVD -> MemoryError: Unable to allocate 1.96 TiB for an array with shape (518400, 518400) and data type float64"
   ]
  },
  {
   "cell_type": "markdown",
   "metadata": {
    "Collapsed": "false"
   },
   "source": [
    "### SVD -> PCA"
   ]
  },
  {
   "cell_type": "code",
   "execution_count": 104,
   "metadata": {
    "Collapsed": "false"
   },
   "outputs": [],
   "source": [
    "video = VideoLoader('data/sample20s.mp4', duration=60, grayscale=True, scale=(480, 270))"
   ]
  },
  {
   "cell_type": "code",
   "execution_count": 110,
   "metadata": {
    "Collapsed": "false"
   },
   "outputs": [],
   "source": [
    "pca_model = IncrementalPCA(n_components=10)\n",
    "pca_model2 = IncrementalPCA(n_components=10)\n",
    "all_frames = video.get_all_frames()\n",
    "original_shape = all_frames.shape\n",
    "mean, std = np.mean(all_frames), np.std(all_frames)\n",
    "all_frames_std = (all_frames -  mean) / std #???\n",
    "frames_after_pca = pca_model.inverse_transform(pca_model.fit_transform(all_frames.reshape(all_frames.shape[0], -1)))\n",
    "frames_after_pca = frames_after_pca.reshape(all_frames.shape)\n",
    "frames_after_pca2 = pca_model2.inverse_transform(pca_model2.fit_transform(all_frames_std.reshape(all_frames.shape[0], -1)))\n",
    "frames_after_pca2 = frames_after_pca2.reshape(all_frames_std.shape)\n",
    "frames_after_pca2 = (frames_after_pca2*std) + mean\n",
    "write_video('data/20pca.mp4', frames_after_pca, all_frames.shape[2], all_frames.shape[1], 24, grayscale=True)\n",
    "write_video('data/20pca_std.mp4', frames_after_pca2, all_frames.shape[2], all_frames.shape[1], 24, grayscale=True)"
   ]
  },
  {
   "cell_type": "code",
   "execution_count": 111,
   "metadata": {
    "Collapsed": "false"
   },
   "outputs": [],
   "source": [
    "from sklearn.utils.extmath import randomized_svd\n",
    "\n",
    "frames_svd = all_frames_std.reshape(all_frames.shape[0], -1)\n",
    "\n",
    "u, _, _ = randomized_svd(frames_svd.T, 10)\n",
    "proj = u.T @ frames_svd.T\n",
    "\n",
    "after_proj = (u @ proj).T\n",
    "after_proj = after_proj.reshape(all_frames.shape)\n",
    "after_proj = (after_proj*std)+mean\n",
    "write_video('data/20svd.mp4', after_proj, original_shape[2], original_shape[1], 24, grayscale=True)"
   ]
  },
  {
   "cell_type": "code",
   "execution_count": 112,
   "metadata": {
    "Collapsed": "false"
   },
   "outputs": [
    {
     "data": {
      "text/plain": [
       "(27.96268172632351, 27.9626817263235, 34.95518856158816)"
      ]
     },
     "execution_count": 112,
     "metadata": {},
     "output_type": "execute_result"
    }
   ],
   "source": [
    "(reconstruction_error(np.clip(frames_after_pca, 0, 255), all_frames), \n",
    " reconstruction_error(np.clip(frames_after_pca2, 0, 255), all_frames), \n",
    " reconstruction_error(np.clip(after_proj, 0, 255), all_frames))"
   ]
  },
  {
   "cell_type": "markdown",
   "metadata": {
    "Collapsed": "false"
   },
   "source": [
    "### PCA model using SVD"
   ]
  },
  {
   "cell_type": "code",
   "execution_count": 19,
   "metadata": {
    "Collapsed": "false"
   },
   "outputs": [
    {
     "data": {
      "text/plain": [
       "34.95518856158816"
      ]
     },
     "execution_count": 19,
     "metadata": {},
     "output_type": "execute_result"
    }
   ],
   "source": [
    "video = VideoLoader('data/sample20s.mp4', duration=60, grayscale=True, scale=(480, 270))\n",
    "\n",
    "frames = video.get_all_frames()\n",
    "\n",
    "pca_model = custom_pca(ncomp=10)\n",
    "pca_model.fit(frames)\n",
    "reduced = pca_model.transform(frames)\n",
    "\n",
    "reconstructed = pca_model.inverse_transform(reduced).reshape(frames.shape)\n",
    "reconstruction_error(frames, np.clip(reconstructed,0,255))"
   ]
  },
  {
   "cell_type": "code",
   "execution_count": 16,
   "metadata": {
    "Collapsed": "false"
   },
   "outputs": [],
   "source": [
    "show_video(video.get_all_frames())"
   ]
  }
 ],
 "metadata": {
  "kernelspec": {
   "display_name": "Python 3",
   "language": "python",
   "name": "python3"
  },
  "language_info": {
   "codemirror_mode": {
    "name": "ipython",
    "version": 3
   },
   "file_extension": ".py",
   "mimetype": "text/x-python",
   "name": "python",
   "nbconvert_exporter": "python",
   "pygments_lexer": "ipython3",
   "version": "3.8.5"
  }
 },
 "nbformat": 4,
 "nbformat_minor": 4
}
