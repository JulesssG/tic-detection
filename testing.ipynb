{
 "cells": [
  {
   "cell_type": "code",
   "execution_count": 8,
   "metadata": {
    "Collapsed": "false"
   },
   "outputs": [
    {
     "name": "stdout",
     "output_type": "stream",
     "text": [
      "The autoreload extension is already loaded. To reload it, use:\n",
      "  %reload_ext autoreload\n"
     ]
    }
   ],
   "source": [
    "%load_ext autoreload\n",
    "%autoreload 2\n",
    "\n",
    "import numpy as np\n",
    "import cv2\n",
    "import torch\n",
    "import torch.functional as F\n",
    "import torch.nn as nn\n",
    "from torch.optim import Adam\n",
    "from time import time, sleep\n",
    "\n",
    "from utils import *\n",
    "from custom_pca import custom_pca\n",
    "from video_loader import VideoLoader\n",
    "from autoencoders import *"
   ]
  },
  {
   "cell_type": "markdown",
   "metadata": {
    "Collapsed": "false"
   },
   "source": [
    "### Establishing baseline w.r.t PCA"
   ]
  },
  {
   "cell_type": "code",
   "execution_count": null,
   "metadata": {
    "Collapsed": "false"
   },
   "outputs": [
    {
     "name": "stdout",
     "output_type": "stream",
     "text": [
      "ncomp -> 50, lr -> 0.001, wd -> 0.05, nparams -> 6619186\n"
     ]
    }
   ],
   "source": [
    "optimizer = Adam(net.parameters(), lr=lr, weight_decay=wd)\n",
    "losses[(ncomp, lr, wd)] = []\n",
    "lr, wd, num_epoch = 0.001, 0.05, 30 # Tuned hyper-parameters\n",
    "print(f'ncomp -> {ncomp}, lr -> {lr}, wd -> {wd}, nparams -> {sum([p.numel() for p in net.parameters()])}')\n",
    "\n",
    "start = time()\n",
    "for i in range(num_epoch):\n",
    "    batch_losses = []\n",
    "    for x in video:\n",
    "        x = torch.from_numpy(x).float()\n",
    "        x_reconstructed = net(x)\n",
    "        batch_loss = crit(x_reconstructed, x)\n",
    "        batch_losses.append(batch_loss.item())\n",
    "        optimizer.zero_grad()\n",
    "        batch_loss.backward()\n",
    "        optimizer.step()\n",
    "        losses[(ncomp, lr, wd)].append(np.mean(batch_losses))\n",
    "fitting_time = sec2string(time() - start)\n",
    "        \n",
    "video.randit = video.skip_frame = 0\n",
    "start = time()\n",
    "\n",
    "reconstructed = []\n",
    "for x in video:\n",
    "    x = torch.from_numpy(x).float()\n",
    "    reconstructed.append(net(x).detach().numpy())\n",
    "reconstructed = np.vstack(reconstructed)\n",
    "transform_time = sec2string(time() - start)\n",
    "\n",
    "exact_loss = reconstruction_error(reconstructed,\n",
    "                                  video.get_all_frames())\n",
    "      \n",
    "print(f'Time taken for fitting with {num_epoch+1} epochs:', fitting_time, 'sec')$à\n",
    "print('Time taken to transform:', transform_time, 'sec')\n",
    "losses = np.array(losses)\n",
    "    \n",
    "plot(range(1, num_epoch+1), [losses])"
   ]
  },
  {
   "cell_type": "code",
   "execution_count": 4,
   "metadata": {
    "Collapsed": "false"
   },
   "outputs": [
    {
     "name": "stdout",
     "output_type": "stream",
     "text": [
      "ncomp -> 10, lr -> 0.0005, wd -> 0.001, nparams -> 1376266\n",
      "Average error after 25 epochs: 58.204910142081125\n",
      "ncomp -> 10, lr -> 0.0005, wd -> 0.01, nparams -> 1376266\n",
      "Average error after 25 epochs: 32.91833536965506\n",
      "ncomp -> 10, lr -> 0.001, wd -> 0.001, nparams -> 1376266\n",
      "Average error after 25 epochs: 25.01471608025687\n",
      "ncomp -> 10, lr -> 0.001, wd -> 0.01, nparams -> 1376266\n",
      "Average error after 25 epochs: 23.20815978731428\n",
      "ncomp -> 50, lr -> 0.0005, wd -> 0.001, nparams -> 6619186\n",
      "Average error after 25 epochs: 42.18621744428362\n",
      "ncomp -> 50, lr -> 0.0005, wd -> 0.01, nparams -> 6619186\n",
      "Average error after 25 epochs: 21.786543709891184\n",
      "ncomp -> 50, lr -> 0.001, wd -> 0.001, nparams -> 6619186\n",
      "Average error after 25 epochs: 17.901950563703263\n",
      "ncomp -> 50, lr -> 0.001, wd -> 0.01, nparams -> 6619186\n",
      "Average error after 25 epochs: 16.674144506454468\n"
     ]
    }
   ],
   "source": [
    "video = VideoLoader('data/big_sample_256.mp4', duration=5*60, randit=True, skip_frame=3, grayscale=True)\n",
    "num_epoch = 25\n",
    "\n",
    "losses = {}\n",
    "for ncomp in [10, 50]:\n",
    "    net = PCAAutoEncoder((video.width, video.height), ncomp)\n",
    "    for lr in [0.0005, 0.001]:\n",
    "        for wd in [0.001, 0.01]:\n",
    "            optimizer = Adam(net.parameters(), lr=lr, weight_decay=wd)\n",
    "            losses[(ncomp, lr, wd)] = []\n",
    "            print(f'ncomp -> {ncomp}, lr -> {lr}, wd -> {wd}, nparams -> {sum([p.numel() for p in net.parameters()])}')\n",
    "            for i in range(num_epoch):\n",
    "                batch_losses = []\n",
    "                for x in video:\n",
    "                    x = torch.from_numpy(x).float()\n",
    "                    x_reconstructed = net(x)\n",
    "                    batch_loss = crit(x_reconstructed, x)\n",
    "                    batch_losses.append(batch_loss.item())\n",
    "                    optimizer.zero_grad()\n",
    "                    batch_loss.backward()\n",
    "                    optimizer.step()\n",
    "                losses[(ncomp, lr, wd)].append(np.mean(batch_losses))\n",
    "                #print(f'Average loss per pixel at epoch {i+1}:', losses[-1])\n",
    "            print(\"Average error after %s epochs:\" % num_epoch, losses[(ncomp, lr, wd)][-1])"
   ]
  },
  {
   "cell_type": "code",
   "execution_count": 7,
   "metadata": {
    "Collapsed": "false"
   },
   "outputs": [
    {
     "name": "stdout",
     "output_type": "stream",
     "text": [
      "ncomp -> 50, lr -> 0.001, wd -> 0.01, nparams -> 6619186\n",
      "Average error after 25 epochs: 22.59322840826852\n",
      "ncomp -> 50, lr -> 0.001, wd -> 0.05, nparams -> 6619186\n",
      "Average error after 25 epochs: 15.610951457704816\n",
      "ncomp -> 50, lr -> 0.001, wd -> 0.1, nparams -> 6619186\n",
      "Average error after 25 epochs: 16.48225028174264\n",
      "ncomp -> 50, lr -> 0.001, wd -> 0.2, nparams -> 6619186\n",
      "Average error after 25 epochs: 18.666049071720668\n"
     ]
    }
   ],
   "source": [
    "video = VideoLoader('data/big_sample_256.mp4', duration=5*60, randit=True, skip_frame=3, grayscale=True)\n",
    "num_epoch = 25\n",
    "\n",
    "losses = {}\n",
    "for ncomp in [50]:\n",
    "    net = PCAAutoEncoder((video.width, video.height), ncomp)\n",
    "    for lr in [0.001]:\n",
    "        for wd in [0.01, 0.05, 0.1, 0.2]:\n",
    "            optimizer = Adam(net.parameters(), lr=lr, weight_decay=wd)\n",
    "            losses[(ncomp, lr, wd)] = []\n",
    "            print(f'ncomp -> {ncomp}, lr -> {lr}, wd -> {wd}, nparams -> {sum([p.numel() for p in net.parameters()])}')\n",
    "            for i in range(num_epoch):\n",
    "                batch_losses = []\n",
    "                for x in video:\n",
    "                    x = torch.from_numpy(x).float()\n",
    "                    x_reconstructed = net(x)\n",
    "                    batch_loss = crit(x_reconstructed, x)\n",
    "                    batch_losses.append(batch_loss.item())\n",
    "                    optimizer.zero_grad()\n",
    "                    batch_loss.backward()\n",
    "                    optimizer.step()\n",
    "                losses[(ncomp, lr, wd)].append(np.mean(batch_losses))\n",
    "                #print(f'Average loss per pixel at epoch {i+1}:', losses[-1])\n",
    "            print(\"Average error after %s epochs:\" % num_epoch, losses[(ncomp, lr, wd)][-1])"
   ]
  },
  {
   "cell_type": "code",
   "execution_count": 18,
   "metadata": {
    "Collapsed": "false"
   },
   "outputs": [
    {
     "name": "stdout",
     "output_type": "stream",
     "text": [
      "Number of parameters: 6619186\n",
      "Average loss per pixel at epoch 1: 142.00329840810676\n",
      "Average loss per pixel at epoch 2: 61.758963233546204\n",
      "Average loss per pixel at epoch 3: 61.021739658556484\n",
      "Average loss per pixel at epoch 4: 58.660716910111276\n",
      "Average loss per pixel at epoch 5: 53.87209611189993\n",
      "Average loss per pixel at epoch 6: 47.00403484545256\n",
      "Average loss per pixel at epoch 7: 47.38626821417557\n",
      "Average loss per pixel at epoch 8: 41.13949966430664\n",
      "Average loss per pixel at epoch 9: 38.92867238898026\n",
      "Average loss per pixel at epoch 10: 40.36632718537983\n",
      "Average loss per pixel at epoch 11: 35.86139899805973\n",
      "Average loss per pixel at epoch 12: 35.27449954183478\n",
      "Average loss per pixel at epoch 13: 31.793102264404297\n",
      "Average loss per pixel at epoch 14: 30.52550842887477\n",
      "Average loss per pixel at epoch 15: 29.145897614328486\n",
      "Average loss per pixel at epoch 16: 28.57848965494256\n",
      "Average loss per pixel at epoch 17: 27.207597230610094\n",
      "Average loss per pixel at epoch 18: 26.832862251683284\n",
      "Average loss per pixel at epoch 19: 25.984480908042507\n",
      "Average loss per pixel at epoch 20: 25.52014546645315\n",
      "Average loss per pixel at epoch 21: 24.704490511040937\n",
      "Average loss per pixel at epoch 22: 24.132622518037493\n",
      "Average loss per pixel at epoch 23: 24.054313960828278\n",
      "Average loss per pixel at epoch 24: 23.451401911283796\n",
      "Average loss per pixel at epoch 25: 23.006126905742445\n",
      "Error after 25 epochs: 22.640331\n",
      "Time taken for fitting with 26 epochs: 412.83115339279175 sec\n",
      "Time taken to transform: 27.00450563430786 sec\n"
     ]
    },
    {
     "data": {
      "image/png": "[encoded data removed]",
      "text/plain": [
       "<Figure size 1080x720 with 1 Axes>"
      ]
     },
     "metadata": {
      "needs_background": "light"
     },
     "output_type": "display_data"
    }
   ],
   "source": [
    "video = VideoLoader('data/big_sample_256.mp4', duration=5*60, randit=True, skip_frame=2, grayscale=True)\n",
    "num_epoch = 25\n",
    "net = PCAAutoEncoder((video.width, video.height), 50)\n",
    "optimizer = Adam(net.parameters(), lr=0.0005, weight_decay=0.005)\n",
    "\n",
    "print(f'Number of parameters:', sum([p.numel() for p in net.parameters()]))\n",
    "losses = []\n",
    "start = time()\n",
    "for i in range(num_epoch):\n",
    "    batch_losses = []\n",
    "    num_in_batch = []\n",
    "    for x in video:\n",
    "        num_in_batch.append(x.shape[0])\n",
    "        x = torch.from_numpy(x).float()\n",
    "        x_reconstructed = net(x)\n",
    "        batch_loss = crit(x_reconstructed, x)\n",
    "        batch_losses.append(batch_loss.item())\n",
    "        optimizer.zero_grad()\n",
    "        batch_loss.backward()\n",
    "        optimizer.step()\n",
    "    losses.append(np.mean(batch_losses))\n",
    "    print(f'Average loss per pixel at epoch {i+1}:', losses[-1])\n",
    "\n",
    "fitting_time = time() - start\n",
    "video.randit = video.skip_frame = 0\n",
    "\n",
    "start = time()\n",
    "\n",
    "reconstructed = []\n",
    "for x in video:\n",
    "    x = torch.from_numpy(x).float()\n",
    "    reconstructed.append(net(x).detach().numpy())\n",
    "reconstructed = np.vstack(reconstructed)\n",
    "transform_time = time() - start\n",
    "\n",
    "exact_loss = reconstruction_error(reconstructed,\n",
    "                                  video.get_all_frames())\n",
    "print(\"Error after %s epochs:\" % num_epoch, exact_loss)\n",
    "      \n",
    "print(f'Time taken for fitting with {num_epoch+1} epochs:', fitting_time, 'sec')\n",
    "print('Time taken to transform:', transform_time, 'sec')\n",
    "losses = np.array(losses)\n",
    "    \n",
    "plot(range(1, num_epoch+1), [losses])"
   ]
  },
  {
   "cell_type": "code",
   "execution_count": 16,
   "metadata": {
    "Collapsed": "false"
   },
   "outputs": [
    {
     "name": "stdout",
     "output_type": "stream",
     "text": [
      "Number of parameters: 6619186\n",
      "Average loss per pixel at epoch 1: 140.3683914385344\n",
      "Average loss per pixel at epoch 2: 59.89795273228695\n",
      "Average loss per pixel at epoch 3: 64.2743400774504\n",
      "Average loss per pixel at epoch 4: 56.20037068818745\n",
      "Average loss per pixel at epoch 5: 47.14252100492779\n",
      "Average loss per pixel at epoch 6: 44.992759905363386\n",
      "Average loss per pixel at epoch 7: 38.68874780755294\n",
      "Average loss per pixel at epoch 8: 36.73343894356176\n",
      "Average loss per pixel at epoch 9: 34.98434990330746\n",
      "Average loss per pixel at epoch 10: 33.229543585526315\n",
      "Average loss per pixel at epoch 11: 30.927652710362484\n",
      "Average loss per pixel at epoch 12: 30.155069903323525\n",
      "Average loss per pixel at epoch 13: 29.242477768345882\n",
      "Average loss per pixel at epoch 14: 28.08175267671284\n",
      "Average loss per pixel at epoch 15: 27.2427699440404\n",
      "Average loss per pixel at epoch 16: 26.501801239816768\n",
      "Average loss per pixel at epoch 17: 25.84408268175627\n",
      "Average loss per pixel at epoch 18: 24.844291837591875\n",
      "Average loss per pixel at epoch 19: 24.422450266386335\n",
      "Average loss per pixel at epoch 20: 23.394382125452946\n",
      "Average loss per pixel at epoch 21: 23.1564460553621\n",
      "Average loss per pixel at epoch 22: 22.040182364614385\n",
      "Average loss per pixel at epoch 23: 21.615372457002337\n",
      "Average loss per pixel at epoch 24: 21.38542481472618\n",
      "Average loss per pixel at epoch 25: 20.774365776463558\n",
      "Average loss per pixel at epoch 26: 20.158936550742702\n",
      "Average loss per pixel at epoch 27: 19.733002813238848\n",
      "Average loss per pixel at epoch 28: 19.467938071803044\n",
      "Average loss per pixel at epoch 29: 19.25583297327945\n",
      "Average loss per pixel at epoch 30: 18.90007199739155\n",
      "Average loss per pixel at epoch 31: 18.49744570882697\n",
      "Average loss per pixel at epoch 32: 18.720127055519505\n",
      "Average loss per pixel at epoch 33: 18.19595241546631\n",
      "Average loss per pixel at epoch 34: 18.144143706873844\n",
      "Average loss per pixel at epoch 35: 17.960512412221806\n",
      "Average loss per pixel at epoch 36: 17.566261868727835\n",
      "Average loss per pixel at epoch 37: 17.812503513536956\n",
      "Average loss per pixel at epoch 38: 17.439480380008096\n",
      "Average loss per pixel at epoch 39: 18.006947266428096\n",
      "Average loss per pixel at epoch 40: 17.30472271065963\n",
      "Error after 40 epochs: 16.835663\n",
      "Time taken for fitting with 41 epochs: 504.69327187538147 sec\n",
      "Time taken to transform: 24.910510540008545 sec\n"
     ]
    },
    {
     "data": {
      "image/png": "[encoded data removed]",
      "text/plain": [
       "<Figure size 1080x720 with 1 Axes>"
      ]
     },
     "metadata": {
      "needs_background": "light"
     },
     "output_type": "display_data"
    }
   ],
   "source": [
    "video = VideoLoader('data/big_sample_256.mp4', duration=5*60, randit=True, skip_frame=2, grayscale=True)\n",
    "num_epoch = 40\n",
    "net = PCAAutoEncoder((video.width, video.height), 50)\n",
    "optimizer = Adam(net.parameters(), lr=0.0005, weight_decay=0.01)\n",
    "\n",
    "print(f'Number of parameters:', sum([p.numel() for p in net.parameters()]))\n",
    "losses = []\n",
    "start = time()\n",
    "for i in range(num_epoch):\n",
    "    batch_losses = []\n",
    "    num_in_batch = []\n",
    "    for x in video:\n",
    "        num_in_batch.append(x.shape[0])\n",
    "        x = torch.from_numpy(x).float()\n",
    "        x_reconstructed = net(x)\n",
    "        batch_loss = crit(x_reconstructed, x)\n",
    "        batch_losses.append(batch_loss.item())\n",
    "        optimizer.zero_grad()\n",
    "        batch_loss.backward()\n",
    "        optimizer.step()\n",
    "    losses.append(np.mean(batch_losses))\n",
    "    print(f'Average loss per pixel at epoch {i+1}:', losses[-1])\n",
    "\n",
    "fitting_time = time() - start\n",
    "video.randit = video.skip_frame = 0\n",
    "\n",
    "start = time()\n",
    "\n",
    "reconstructed = []\n",
    "for x in video:\n",
    "    x = torch.from_numpy(x).float()\n",
    "    reconstructed.append(net(x).detach().numpy())\n",
    "reconstructed = np.vstack(reconstructed)\n",
    "transform_time = time() - start\n",
    "\n",
    "exact_loss = reconstruction_error(reconstructed,\n",
    "                                  video.get_all_frames())\n",
    "print(\"Error after %s epochs:\" % num_epoch, exact_loss)\n",
    "      \n",
    "print(f'Time taken for fitting with {num_epoch+1} epochs:', fitting_time, 'sec')\n",
    "print('Time taken to transform:', transform_time, 'sec')\n",
    "losses = np.array(losses)\n",
    "    \n",
    "plot(range(1, num_epoch+1), [losses])"
   ]
  },
  {
   "cell_type": "code",
   "execution_count": 15,
   "metadata": {
    "Collapsed": "false"
   },
   "outputs": [],
   "source": [
    "#write_video('data/big_sample_pcaae_50.mp4', reconstructed, video.width, video.height, video.fps, grayscale=True)"
   ]
  }
 ],
 "metadata": {
  "kernelspec": {
   "display_name": "Python 3",
   "language": "python",
   "name": "python3"
  },
  "language_info": {
   "codemirror_mode": {
    "name": "ipython",
    "version": 3
   },
   "file_extension": ".py",
   "mimetype": "text/x-python",
   "name": "python",
   "nbconvert_exporter": "python",
   "pygments_lexer": "ipython3",
   "version": "3.8.5"
  }
 },
 "nbformat": 4,
 "nbformat_minor": 4
}
