{
 "cells": [
  {
   "cell_type": "code",
   "execution_count": 8,
   "metadata": {
    "Collapsed": "false"
   },
   "outputs": [
    {
     "name": "stdout",
     "output_type": "stream",
     "text": [
      "The autoreload extension is already loaded. To reload it, use:\n",
      "  %reload_ext autoreload\n"
     ]
    }
   ],
   "source": [
    "%load_ext autoreload\n",
    "%autoreload 2\n",
    "\n",
    "import numpy as np\n",
    "import cv2\n",
    "import torch\n",
    "import torch.functional as F\n",
    "import torch.nn as nn\n",
    "from torch.optim import Adam\n",
    "from time import time, sleep\n",
    "\n",
    "from utils import *\n",
    "from custom_pca import custom_pca\n",
    "from video_loader import VideoLoader\n",
    "from autoencoders import *"
   ]
  },
  {
   "cell_type": "markdown",
   "metadata": {
    "Collapsed": "false"
   },
   "source": [
    "### Establishing baseline w.r.t PCA"
   ]
  },
  {
   "cell_type": "code",
   "execution_count": 11,
   "metadata": {
    "Collapsed": "false"
   },
   "outputs": [
    {
     "name": "stdout",
     "output_type": "stream",
     "text": [
      "ncomp -> 50, lr -> 0.001, wd -> 0.05, nparams -> 6619186\n"
     ]
    }
   ],
   "source": [
    "ncomp = 50\n",
    "video = VideoLoader('data/big_sample_256.mp4', duration=5*60, randit=True, skip_frame=3, grayscale=True)\n",
    "net = PCAAutoEncoder((video.width, video.height), ncomp)\n",
    "lr, wd, num_epoch = 0.001, 0.05, 30 # Tuned hyper-parameters\n",
    "optimizer = Adam(net.parameters(), lr=lr, weight_decay=wd)\n",
    "print(f'ncomp -> {ncomp}, lr -> {lr}, wd -> {wd}, nparams -> {sum([p.numel() for p in net.parameters()])}')\n",
    "\n",
    "\n",
    "start = time()\n",
    "losses = []\n",
    "for i in range(num_epoch):\n",
    "    epoch_loss = 0\n",
    "    num_batch  = 0\n",
    "    for x in video:\n",
    "        num_batch += 1\n",
    "        x = torch.from_numpy(x).float()\n",
    "        x_reconstructed = net(x)\n",
    "        batch_loss = crit(x_reconstructed, x)\n",
    "        epoch_loss += batch_loss.item()\n",
    "        \n",
    "        optimizer.zero_grad()\n",
    "        batch_loss.backward()\n",
    "        optimizer.step()\n",
    "        \n",
    "    losses.append(epoch_loss / num_batch)\n",
    "fitting_time = sec2string(time() - start)"
   ]
  },
  {
   "cell_type": "code",
   "execution_count": 15,
   "metadata": {
    "Collapsed": "false"
   },
   "outputs": [
    {
     "name": "stdout",
     "output_type": "stream",
     "text": [
      "ncomp -> 50, lr -> 0.001, wd -> 0.05, nparams -> 6619186\n",
      "Time taken for fitting with 30 epochs: 0:04:43.255647\n",
      "Time taken to transform: 23.56\n",
      "Reconstruction error: 17.841055\n"
     ]
    },
    {
     "data": {
      "image/png": "[encoded data removed]",
      "text/plain": [
       "<Figure size 1080x720 with 1 Axes>"
      ]
     },
     "metadata": {
      "needs_background": "light"
     },
     "output_type": "display_data"
    }
   ],
   "source": [
    "ncomp = 50\n",
    "video = VideoLoader('data/big_sample_256.mp4', duration=5*60, randit=True, skip_frame=3, grayscale=True)\n",
    "net = PCAAutoEncoder((video.width, video.height), ncomp)\n",
    "lr, wd, num_epoch = 0.001, 0.05, 30 # Tuned hyper-parameters\n",
    "optimizer = Adam(net.parameters(), lr=lr, weight_decay=wd)\n",
    "print(f'ncomp -> {ncomp}, lr -> {lr}, wd -> {wd}, nparams -> {sum([p.numel() for p in net.parameters()])}')\n",
    "\n",
    "\n",
    "start = time()\n",
    "losses = []\n",
    "for i in range(num_epoch):\n",
    "    epoch_loss = 0\n",
    "    num_batch  = 0\n",
    "    for x in video:\n",
    "        num_batch += 1\n",
    "        x = torch.from_numpy(x).float()\n",
    "        x_reconstructed = net(x)\n",
    "        batch_loss = crit(x_reconstructed, x)\n",
    "        epoch_loss += batch_loss.item()\n",
    "        \n",
    "        optimizer.zero_grad()\n",
    "        batch_loss.backward()\n",
    "        optimizer.step()\n",
    "        \n",
    "    losses.append(epoch_loss / num_batch)\n",
    "fitting_time = sec2string(time() - start)\n",
    "\n",
    "video.randit = video.skip_frame = 0\n",
    "start = time()\n",
    "\n",
    "reconstructed = []\n",
    "for x in video:\n",
    "    x = torch.from_numpy(x).float()\n",
    "    reconstructed.append(net(x).detach().numpy())\n",
    "reconstructed = np.vstack(reconstructed)\n",
    "transform_time = sec2string(time() - start)\n",
    "\n",
    "exact_loss = reconstruction_error(reconstructed,\n",
    "                                  video.get_all_frames())\n",
    "      \n",
    "print(f'Time taken for fitting with {num_epoch} epochs:', fitting_time)\n",
    "print('Time taken to transform:', transform_time)\n",
    "\n",
    "print('Reconstruction error:', exact_loss)\n",
    "losses = np.array(losses)\n",
    "plot(range(1, num_epoch+1), [losses], title='Evolution of the loss', xlabel='Epochs', ylabel='Error', labels=['lr: 0.001, wd: 0.05'])"
   ]
  },
  {
   "cell_type": "markdown",
   "metadata": {
    "Collapsed": "false"
   },
   "source": [
    "As a comparison for PCA:\n",
    "Error of 7.45 after 36s of fitting time"
   ]
  },
  {
   "cell_type": "code",
   "execution_count": 16,
   "metadata": {
    "Collapsed": "false"
   },
   "outputs": [],
   "source": [
    "write_video('data/big_sample_pcaae_50.mp4', reconstructed, video.width, video.height, video.fps, grayscale=True)"
   ]
  }
 ],
 "metadata": {
  "kernelspec": {
   "display_name": "Python 3",
   "language": "python",
   "name": "python3"
  },
  "language_info": {
   "codemirror_mode": {
    "name": "ipython",
    "version": 3
   },
   "file_extension": ".py",
   "mimetype": "text/x-python",
   "name": "python",
   "nbconvert_exporter": "python",
   "pygments_lexer": "ipython3",
   "version": "3.8.5"
  }
 },
 "nbformat": 4,
 "nbformat_minor": 4
}
