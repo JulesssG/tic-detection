{
 "cells": [
  {
   "cell_type": "code",
   "execution_count": 1,
   "metadata": {
    "Collapsed": "false"
   },
   "outputs": [],
   "source": [
    "%load_ext autoreload\n",
    "%autoreload 2\n",
    "\n",
    "import numpy as np\n",
    "import cv2\n",
    "import torch\n",
    "import torch.functional as F\n",
    "import torch.nn as nn\n",
    "from torch.optim import Adam\n",
    "from time import time, sleep\n",
    "\n",
    "from utils import *\n",
    "from custom_pca import custom_pca\n",
    "from video_loader import VideoLoader\n",
    "from autoencoders import *"
   ]
  },
  {
   "cell_type": "markdown",
   "metadata": {
    "Collapsed": "false"
   },
   "source": [
    "### Example of video transformation"
   ]
  },
  {
   "cell_type": "code",
   "execution_count": null,
   "metadata": {
    "Collapsed": "false"
   },
   "outputs": [],
   "source": [
    "model = custom_pca()\n",
    "\n",
    "video = VideoLoader('data/sample20s.mp4', grayscale=True)\n",
    "t1 = time()\n",
    "frames_rand = video.get_random_frames(0.6)\n",
    "model.fit(frames_rand)\n",
    "t2 = time()\n",
    "reconstructed = []\n",
    "for j, frames in enumerate(video):\n",
    "    reconstructed.append(model.inverse_transform(model.transform(frames), shape=(video.height, video.width)))\n",
    "reconstructed = np.vstack(reconstructed)\n",
    "t3 = time()\n",
    "print(reconstruction_error(video.get_all_frames(), reconstructed))\n",
    "t4 = time()\n",
    "\n",
    "print('Fitting time:', t2-t1)\n",
    "print('Transform:', t3-t2)\n",
    "print('Error calculation:', t4-t3)"
   ]
  },
  {
   "cell_type": "markdown",
   "metadata": {
    "Collapsed": "false"
   },
   "source": [
    "### Dimensionality reduction using autoencoders"
   ]
  },
  {
   "cell_type": "markdown",
   "metadata": {
    "Collapsed": "false"
   },
   "source": [
    "#### Consecutive load"
   ]
  },
  {
   "cell_type": "code",
   "execution_count": 13,
   "metadata": {
    "Collapsed": "false"
   },
   "outputs": [
    {
     "name": "stdout",
     "output_type": "stream",
     "text": [
      "Number of parameters for 16 components: 56466\n",
      "Average loss per pixel at epoch 1: 57.70232963562012\n",
      "Average loss per pixel at epoch 2: 49.1624118141506\n",
      "Average loss per pixel at epoch 3: 44.3708496923032\n",
      "Average loss per pixel at epoch 4: 43.27957932845406\n",
      "Average loss per pixel at epoch 5: 43.63873929562776\n",
      "Error after 5 epochs: 40.391567\n",
      "Time taken for fitting with 6 epochs: 339.867027759552 sec\n",
      "Time taken to transform: 132.30144000053406 sec\n"
     ]
    },
    {
     "data": {
      "image/png": "[encoded data removed]",
      "text/plain": [
       "<Figure size 1080x720 with 1 Axes>"
      ]
     },
     "metadata": {
      "needs_background": "light"
     },
     "output_type": "display_data"
    }
   ],
   "source": [
    "video = VideoLoader('data/big_sample_256.mp4', grayscale=True, duration=60*5, skip_frame=4)\n",
    "num_epoch = 5\n",
    "ncomp = 16\n",
    "network = BasicAutoEncoder(1, ncomp)\n",
    "optimizer = Adam(network.parameters(), lr=0.0005)\n",
    "\n",
    "print(f'Number of parameters for {network.ncomp} components:', sum([p.numel() for p in network.parameters()]))\n",
    "losses = []\n",
    "networks = []\n",
    "start = time()\n",
    "for i in range(num_epoch):\n",
    "    batch_losses = []\n",
    "    for x in video:\n",
    "        x = torch.from_numpy(x).float().unsqueeze(1)\n",
    "        x_low, shape = network.transform(x)\n",
    "        x_reconstructed = network.inverse_transform(x_low, shape)\n",
    "        batch_loss = crit(x_reconstructed, x)\n",
    "        batch_losses.append(batch_loss.item())\n",
    "        optimizer.zero_grad()\n",
    "        batch_loss.backward()\n",
    "        optimizer.step()\n",
    "    losses.append(np.mean(batch_losses))\n",
    "    print(f'Average loss per pixel at epoch {i+1}:', losses[-1])\n",
    "\n",
    "fitting_time = time() - start\n",
    "\n",
    "video.randit = video.skip_frame = 0\n",
    "start = time()\n",
    "reconstructed = []\n",
    "for x in video:\n",
    "    x = torch.from_numpy(x).float().unsqueeze(1)\n",
    "    x_low, shape = network.transform(x)\n",
    "    reconstructed.append(network.inverse_transform(x_low, shape).squeeze(1).detach().numpy())\n",
    "reconstructed = np.vstack(reconstructed)\n",
    "transform_time = time() - start\n",
    "\n",
    "exact_loss = reconstruction_error(reconstructed,\n",
    "                                  video.get_all_frames())\n",
    "print(\"Error after %s epochs:\" % num_epoch, exact_loss)\n",
    "      \n",
    "print(f'Time taken for fitting with {num_epoch+1} epochs:', fitting_time, 'sec')\n",
    "print('Time taken to transform:', transform_time, 'sec')\n",
    "losses = np.array(losses)\n",
    "    \n",
    "plot(range(1, num_epoch+1), [losses])"
   ]
  },
  {
   "cell_type": "code",
   "execution_count": 14,
   "metadata": {
    "Collapsed": "false"
   },
   "outputs": [],
   "source": [
    "write_video('data/big_sample_net_16_consecutive.mp4', reconstructed, video.width, video.height, video.fps, grayscale=True)"
   ]
  },
  {
   "cell_type": "markdown",
   "metadata": {
    "Collapsed": "false"
   },
   "source": [
    "#### Random loading"
   ]
  },
  {
   "cell_type": "code",
   "execution_count": 4,
   "metadata": {
    "Collapsed": "false"
   },
   "outputs": [],
   "source": [
    "video = VideoLoader('data/big_sample_256.mp4', grayscale=True, duration=60*5, skip_frame=4, randit=True)\n",
    "num_epoch = 20\n",
    "ncomp = 16\n",
    "network = BasicAutoEncoder(1, ncomp)\n",
    "optimizer = Adam(network.parameters(), lr=0.0005)\n",
    "\n",
    "\n",
    "print(f'Number of parameters for {network.ncomp} components:', sum([p.numel() for p in network.parameters()]))\n",
    "losses = []\n",
    "networks = []\n",
    "start = time()\n",
    "for i in range(num_epoch):\n",
    "    batch_losses = []\n",
    "    num_in_batch = []\n",
    "    for x in video:\n",
    "        num_in_batch.append(x.shape[0])\n",
    "        x = torch.from_numpy(x).float().unsqueeze(1)\n",
    "        x_low, shape = network.transform(x)\n",
    "        x_reconstructed = network.inverse_transform(x_low, shape)\n",
    "        batch_loss = crit(x_reconstructed, x)\n",
    "        batch_losses.append(batch_loss.item())\n",
    "        optimizer.zero_grad()\n",
    "        batch_loss.backward()\n",
    "        optimizer.step()\n",
    "    losses.append(np.mean(batch_losses))\n",
    "    print(f'Average loss per pixel at epoch {i+1}:', losses[-1])\n",
    "\n",
    "fitting_time = time() - start\n",
    "\n",
    "video.randit = video.skip_frame = 0\n",
    "start = time\n",
    "\n",
    "reconstructed = []\n",
    "for x in video:\n",
    "    x = torch.from_numpy(x).float().unsqueeze(1)\n",
    "    x_low, shape = network.transform(x)\n",
    "    reconstructed.append(network.inverse_transform(x_low, shape).squeeze(1).detach().numpy())\n",
    "reconstructed = np.vstack(reconstructed)\n",
    "transform_time = time() - start\n",
    "\n",
    "exact_loss = reconstruction_error(reconstructed,\n",
    "                                  video.get_all_frames())\n",
    "print(\"Error after %s epochs:\" % num_epoch, exact_loss)\n",
    "      \n",
    "print(f'Time taken for fitting with {num_epoch+1} epochs:', fitting_time, 'sec')\n",
    "print('Time taken to transform:', transform_time, 'sec')\n",
    "losses = np.array(losses)\n",
    "    \n",
    "plot(range(1, num_epoch+1), [losses])"
   ]
  },
  {
   "cell_type": "code",
   "execution_count": 12,
   "metadata": {
    "Collapsed": "false"
   },
   "outputs": [],
   "source": [
    "write_video('data/big_sample_net_16.mp4', reconstructed, video.width, video.height, video.fps, grayscale=True)"
   ]
  },
  {
   "cell_type": "code",
   "execution_count": 7,
   "metadata": {
    "Collapsed": "false"
   },
   "outputs": [
    {
     "name": "stdout",
     "output_type": "stream",
     "text": [
      "Error after 20 epochs: 23.887798\n",
      "Time taken for fitting with 21 epochs: 1280.099949836731 sec\n",
      "Time taken to transform: 244.48246788978577 sec\n"
     ]
    },
    {
     "data": {
      "image/png": "[encoded data removed]",
      "text/plain": [
       "<Figure size 1080x720 with 1 Axes>"
      ]
     },
     "metadata": {
      "needs_background": "light"
     },
     "output_type": "display_data"
    }
   ],
   "source": [
    "video = VideoLoader('data/big_sample_256.mp4', grayscale=True, duration=60*5, skip_frame=4, randit=True)\n",
    "num_epoch = 20\n",
    "ncomp = 100\n",
    "network = BasicAutoEncoder(1, ncomp)\n",
    "optimizer = Adam(network.parameters(), lr=0.0005)\n",
    "\n",
    "\n",
    "print(f'Number of parameters for {network.ncomp} components:', sum([p.numel() for p in network.parameters()]))\n",
    "losses = []\n",
    "networks = []\n",
    "start = time()\n",
    "for i in range(num_epoch):\n",
    "    batch_losses = []\n",
    "    num_in_batch = []\n",
    "    for x in video:\n",
    "        num_in_batch.append(x.shape[0])\n",
    "        x = torch.from_numpy(x).float().unsqueeze(1)\n",
    "        x_low, shape = network.transform(x)\n",
    "        x_reconstructed = network.inverse_transform(x_low, shape)\n",
    "        batch_loss = crit(x_reconstructed, x)\n",
    "        batch_losses.append(batch_loss.item())\n",
    "        optimizer.zero_grad()\n",
    "        batch_loss.backward()\n",
    "        optimizer.step()\n",
    "    losses.append(np.mean(batch_losses))\n",
    "    print(f'Average loss per pixel at epoch {i+1}:', losses[-1])\n",
    "\n",
    "fitting_time = time() - start\n",
    "\n",
    "video.randit = video.skip_frame = 0\n",
    "start = time()\n",
    "\n",
    "reconstructed = []\n",
    "for x in video:\n",
    "    x = torch.from_numpy(x).float().unsqueeze(1)\n",
    "    x_low, shape = network.transform(x)\n",
    "    reconstructed.append(network.inverse_transform(x_low, shape).squeeze(1).detach().numpy())\n",
    "reconstructed = np.vstack(reconstructed)\n",
    "#transform_time = time() - start\n",
    "\n",
    "exact_loss = reconstruction_error(reconstructed,\n",
    "                                  video.get_all_frames())\n",
    "print(\"Error after %s epochs:\" % num_epoch, exact_loss)\n",
    "      \n",
    "print(f'Time taken for fitting with {num_epoch+1} epochs:', fitting_time, 'sec')\n",
    "print('Time taken to transform:', transform_time, 'sec')\n",
    "losses = np.array(losses)\n",
    "    \n",
    "plot(range(1, num_epoch+1), [losses])\n",
    "exact_loss = reconstruction_error(reconstructed,\n",
    "                                  video.get_all_frames())\n",
    "print(\"Error after %s epochs:\" % num_epoch, exact_loss)\n",
    "      \n",
    "print(f'Time taken for fitting with {num_epoch+1} epochs:', fitting_time, 'sec')\n",
    "print('Time taken to transform:', transform_time, 'sec')\n",
    "losses = np.array(losses)\n",
    "    \n",
    "plot(range(1, num_epoch+1), [losses])"
   ]
  }
 ],
 "metadata": {
  "kernelspec": {
   "display_name": "Python 3",
   "language": "python",
   "name": "python3"
  },
  "language_info": {
   "codemirror_mode": {
    "name": "ipython",
    "version": 3
   },
   "file_extension": ".py",
   "mimetype": "text/x-python",
   "name": "python",
   "nbconvert_exporter": "python",
   "pygments_lexer": "ipython3",
   "version": "3.8.5"
  }
 },
 "nbformat": 4,
 "nbformat_minor": 4
}
