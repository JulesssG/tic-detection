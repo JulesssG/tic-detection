{
 "cells": [
  {
   "cell_type": "code",
   "execution_count": 1,
   "metadata": {
    "Collapsed": "false"
   },
   "outputs": [],
   "source": [
    "%load_ext autoreload\n",
    "%autoreload 2\n",
    "\n",
    "import torch\n",
    "import torchvision\n",
    "from torchvision.io import read_video, write_video, read_video_timestamps"
   ]
  },
  {
   "cell_type": "code",
   "execution_count": 2,
   "metadata": {
    "Collapsed": "false"
   },
   "outputs": [
    {
     "name": "stdout",
     "output_type": "stream",
     "text": [
      "torch.Size([4, 3, 120, 720, 1280])\n",
      "Number of videos: 4\n",
      "Number of frame per video: 120\n",
      "Duration of videos: 5\n"
     ]
    }
   ],
   "source": [
    "from video_loader import video_loader\n",
    "\n",
    "videos = !ls data/sample*.mp4\n",
    "loader = video_loader(videos, 5)\n",
    "vframes = loader.create_frames()\n",
    "print(vframes.shape)\n",
    "print('Number of videos:', loader.nvideos)\n",
    "print('Number of frame per video:', loader.nframes)\n",
    "print('Duration of videos:', loader.duration)"
   ]
  }
 ],
 "metadata": {
  "kernelspec": {
   "display_name": "Python 3",
   "language": "python",
   "name": "python3"
  },
  "language_info": {
   "codemirror_mode": {
    "name": "ipython",
    "version": 3
   },
   "file_extension": ".py",
   "mimetype": "text/x-python",
   "name": "python",
   "nbconvert_exporter": "python",
   "pygments_lexer": "ipython3",
   "version": "3.8.5"
  }
 },
 "nbformat": 4,
 "nbformat_minor": 4
}
