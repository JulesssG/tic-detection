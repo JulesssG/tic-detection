{
 "cells": [
  {
   "cell_type": "code",
   "execution_count": 2,
   "metadata": {
    "Collapsed": "false"
   },
   "outputs": [],
   "source": [
    "%load_ext autoreload\n",
    "%autoreload 2\n",
    "\n",
    "import numpy as np\n",
    "import torch\n",
    "import cv2\n",
    "from time import time, sleep\n",
    "from sklearn.decomposition import IncrementalPCA\n",
    "\n",
    "from utils import *"
   ]
  },
  {
   "cell_type": "markdown",
   "metadata": {
    "Collapsed": "false"
   },
   "source": [
    "### 5 sec sample testing"
   ]
  },
  {
   "cell_type": "code",
   "execution_count": 4,
   "metadata": {
    "Collapsed": "false"
   },
   "outputs": [
    {
     "name": "stdout",
     "output_type": "stream",
     "text": [
      "Video loading...\n",
      "Loaded video of 5.0 seconds with quality 960x540 in 0.3 seconds\n",
      "Transforming the video...\n",
      "Fitting of the pca model took 94.62 seconds\n",
      "Transformations of the videos took 2.97 seconds\n",
      "Displaying and writting the video...\n",
      "Done\n"
     ]
    }
   ],
   "source": [
    "print('Video loading...')\n",
    "# Read the video\n",
    "start = time()\n",
    "sample_name = 'sample5s'\n",
    "frames, fps, width, height = read_video('data/'+sample_name+'.mp4')\n",
    "nframes = frames.shape[0]\n",
    "print(f'Loaded video of {round(nframes/fps, 2)} seconds with quality {width}x{height} in {round(time()-start,2)} seconds')\n",
    "\n",
    "print('Transforming the video...')\n",
    "# Create, fit and apply the pca model\n",
    "pca_model = IncrementalPCA(n_components=50)\n",
    "start = time()\n",
    "pca_model.fit(frames.reshape(frames.shape[0], -1))\n",
    "after_fit = time()\n",
    "reduced_frames = pca_model.transform(frames.reshape(frames.shape[0], -1))\n",
    "frames_2 = pca_model.inverse_transform(reduced_frames).reshape((nframes, height, width, 3))\n",
    "after_transformations = time()\n",
    "print(f'Fitting of the pca model took {round(after_fit-start,2)} seconds')\n",
    "print(f'Transformations of the videos took {round(after_transformations-after_fit,2)} seconds')\n",
    "\n",
    "# Write the videos to disk\n",
    "writer_after_pca = cv2.VideoWriter('data/'+sample_name+'_after_pca.mp4', cv2.VideoWriter_fourcc(*\"MJPG\"),\n",
    "                         fps, (width, height))\n",
    "\n",
    "print('Displaying and writting the video...')\n",
    "frames_2 = np.around(frames_2).astype(np.uint8)\n",
    "for frame in frames_2:\n",
    "    writer_after_pca.write(frame)\n",
    "    \n",
    "    cv2.imshow('Video Capture', frame)\n",
    "    if cv2.waitKey(1) & 0xFF == ord('q'):\n",
    "        break\n",
    "    \n",
    "    \n",
    "# When everything done, release the video capture and video write objects\n",
    "writer_after_pca.release()\n",
    "\n",
    "# Closes all the frames\n",
    "cv2.destroyAllWindows()\n",
    "print('Done')"
   ]
  },
  {
   "cell_type": "code",
   "execution_count": 4,
   "metadata": {
    "Collapsed": "false"
   },
   "outputs": [
    {
     "name": "stdout",
     "output_type": "stream",
     "text": [
      "(64, 540, 960, 3)\n",
      "(56, 540, 960, 3)\n",
      "127.25194954872131 sec\n"
     ]
    }
   ],
   "source": [
    "video = VideoIterator('data/sample5s.mp4')\n",
    "start = time()\n",
    "pca_model = IncrementalPCA(n_components=50)\n",
    "for frames in video:\n",
    "    print(frames.shape)\n",
    "    pca_model.partial_fit(frames.reshape(frames.shape[0], -1))\n",
    "frames,_,_,_ = read_video('data_generated/sample5s.mp4')\n",
    "nframes = frames.shape[0]\n",
    "\n",
    "reduced_frames = pca_model.transform(frames.reshape(frames.shape[0], -1))\n",
    "frames_2 = pca_model.inverse_transform(reduced_frames).reshape((nframes, video.height, video.width, 3))\n",
    "writer_after_pca = cv2.VideoWriter('data/sample5s_after_pca_2.mp4', cv2.VideoWriter_fourcc(*\"MJPG\"),\n",
    "                         video.fps, (video.width, video.height))\n",
    "\n",
    "frames_2 = np.around(frames_2).astype(np.uint8)\n",
    "for frame in frames_2:\n",
    "    writer_after_pca.write(frame)\n",
    "print(time()-start,'sec')\n",
    "writer_after_pca.release()"
   ]
  },
  {
   "cell_type": "markdown",
   "metadata": {
    "Collapsed": "false"
   },
   "source": [
    "------------------\n",
    "\n",
    "5 seconds 960x540 in color:\n",
    "\n",
    "    - First technique: 0.3s (load), 95s (fit), 3s (transformations)\n",
    "    - Second technique: total of 127s (loading twice the video)\n",
    "    \n",
    "------------------"
   ]
  },
  {
   "cell_type": "markdown",
   "metadata": {
    "Collapsed": "false"
   },
   "source": [
    "### 20 seconds grayscale runtime comparison"
   ]
  },
  {
   "cell_type": "code",
   "execution_count": 11,
   "metadata": {
    "Collapsed": "false"
   },
   "outputs": [
    {
     "name": "stdout",
     "output_type": "stream",
     "text": [
      "Video loading...\n",
      "Loaded video of 20.0 seconds with quality 960x540 in 1.02 seconds\n",
      "Transforming the video...\n",
      "Fitting of the pca model took 124.74 seconds\n",
      "Transformations of the videos took 2.12 seconds\n",
      "Displaying and writting the video...\n",
      "Done\n"
     ]
    }
   ],
   "source": [
    "print('Video loading...')\n",
    "# Read the video\n",
    "start = time()\n",
    "sample_name = 'sample20s_540'\n",
    "frames, fps, width, height = read_video('data_generated/'+sample_name+'.mp4')\n",
    "nframes = frames.shape[0]\n",
    "print(f'Loaded video of {round(nframes/fps, 2)} seconds with quality {width}x{height} in {round(time()-start,2)} seconds')\n",
    "\n",
    "# Convert to gray scale\n",
    "print('Transforming the video...')\n",
    "gray_frames = np.zeros((nframes, height, width), dtype=np.uint8)\n",
    "for i, frame in enumerate(frames):\n",
    "    gray_frames[i] = cv2.cvtColor(frame, cv2.COLOR_BGR2GRAY)\n",
    "\n",
    "# Create, fit and apply the pca model\n",
    "pca_model = IncrementalPCA(n_components=20)\n",
    "start = time()\n",
    "pca_model.fit(gray_frames.reshape(gray_frames.shape[0], -1))\n",
    "after_fit = time()\n",
    "reduced_gray_frames = pca_model.transform(gray_frames.reshape(gray_frames.shape[0], -1))\n",
    "gray_frames_2 = pca_model.inverse_transform(reduced_gray_frames).reshape((nframes, height, width))\n",
    "after_transformations = time()\n",
    "print(f'Fitting of the pca model took {round(after_fit-start,2)} seconds')\n",
    "print(f'Transformations of the videos took {round(after_transformations-after_fit,2)} seconds')\n",
    "\n",
    "# Write the videos to disk\n",
    "writer_gray = cv2.VideoWriter('data_generated/'+sample_name+'_gray.mp4', cv2.VideoWriter_fourcc(*\"MJPG\"),\n",
    "                         fps, (width, height), 0)\n",
    "writer_gray_after_pca = cv2.VideoWriter('data_generated/'+sample_name+'_gray_after_pca.mp4', cv2.VideoWriter_fourcc(*\"MJPG\"),\n",
    "                         fps, (width, height), 0)\n",
    "print('Displaying and writting the video...')\n",
    "for i in range(nframes):\n",
    "    frame_pca = np.around(gray_frames_2[i]).astype(np.uint8)\n",
    "    writer_gray.write(gray_frames[i])\n",
    "    writer_gray_after_pca.write(frame_pca)\n",
    "    \n",
    "    cv2.imshow('Video Capture', frame)\n",
    "    if cv2.waitKey(1) & 0xFF == ord('q'):\n",
    "        break\n",
    "    \n",
    "    \n",
    "# When everything done, release the video capture and video write objects\n",
    "writer_gray.release()\n",
    "writer_gray_after_pca.release()\n",
    "\n",
    "# Closes all the frames\n",
    "cv2.destroyAllWindows()\n",
    "print('Done')"
   ]
  },
  {
   "cell_type": "code",
   "execution_count": 7,
   "metadata": {
    "Collapsed": "false"
   },
   "outputs": [
    {
     "name": "stdout",
     "output_type": "stream",
     "text": [
      "Loading via iterator and fitting took 137.84946703910828 sec\n",
      "142.48674368858337 sec\n"
     ]
    }
   ],
   "source": [
    "video = VideoIterator('data_generated/sample20s_540.mp4', grayscale=True)\n",
    "start = time()\n",
    "pca_model = IncrementalPCA(n_components=20)\n",
    "for frames in video:\n",
    "    pca_model.partial_fit(frames.reshape(frames.shape[0], -1))\n",
    "print(f'Loading via iterator and fitting took {time()-start} sec')\n",
    "    \n",
    "frames = list(VideoIterator('data_generated/sample20s_540.mp4', batch_size=np.inf, grayscale=True))[0]\n",
    "nframes = frames.shape[0]\n",
    "\n",
    "reduced_frames = pca_model.transform(frames.reshape(frames.shape[0], -1))\n",
    "frames_2 = pca_model.inverse_transform(reduced_frames).reshape((nframes, video.height, video.width))\n",
    "writer_gray_after_pca = cv2.VideoWriter('data_generated/sample20s_540_gray_after_pca_2.mp4', cv2.VideoWriter_fourcc(*\"MJPG\"),\n",
    "                                        video.fps, (video.width, video.height), 0)\n",
    "\n",
    "frames_2 = np.around(frames_2).astype(np.uint8)\n",
    "for frame in frames_2:\n",
    "    writer_gray_after_pca.write(frame)\n",
    "print(time()-start,'sec')\n",
    "writer_gray_after_pca.release()"
   ]
  },
  {
   "cell_type": "markdown",
   "metadata": {
    "Collapsed": "false"
   },
   "source": [
    "------------------\n",
    "20 components reduction of 20s grayscale video\n",
    "\n",
    "Loading and fitting:\n",
    "\n",
    "    - method 1: 2m6s\n",
    "    - method 2 (iterator): 2m18s\n",
    "    \n",
    "------------------"
   ]
  },
  {
   "cell_type": "markdown",
   "metadata": {
    "Collapsed": "false"
   },
   "source": [
    "### 20 seconds in colors compression"
   ]
  },
  {
   "cell_type": "code",
   "execution_count": 6,
   "metadata": {
    "Collapsed": "false"
   },
   "outputs": [
    {
     "name": "stdout",
     "output_type": "stream",
     "text": [
      "Loading via iterator and fitting took 489.0852267742157 sec\n",
      "517.2759799957275 sec\n"
     ]
    }
   ],
   "source": [
    "video = VideoIterator('data_generated/sample20s_540.mp4')\n",
    "start = time()\n",
    "pca_model = IncrementalPCA(n_components=32)\n",
    "for frames in video:\n",
    "    pca_model.partial_fit(frames.reshape(frames.shape[0], -1))\n",
    "print(f'Loading via iterator and fitting took {time()-start} sec')\n",
    "    \n",
    "frames,_,_,_ = read_video('data_generated/sample20s_540.mp4')\n",
    "nframes = frames.shape[0]\n",
    "\n",
    "reduced_frames = pca_model.transform(frames.reshape(frames.shape[0], -1))\n",
    "frames_2 = pca_model.inverse_transform(reduced_frames).reshape((nframes, video.height, video.width, 3))\n",
    "writer_after_pca = cv2.VideoWriter('data_generated/sample20s_after_pca_2.mp4', cv2.VideoWriter_fourcc(*\"MJPG\"),\n",
    "                         video.fps, (video.width, video.height))\n",
    "\n",
    "frames_2 = np.around(frames_2).astype(np.uint8)\n",
    "for frame in frames_2:\n",
    "    writer_after_pca.write(frame)\n",
    "print(time()-start,'sec')\n",
    "writer_after_pca.release()\n"
   ]
  },
  {
   "cell_type": "markdown",
   "metadata": {
    "Collapsed": "false"
   },
   "source": [
    "### SVD runtime"
   ]
  },
  {
   "cell_type": "code",
   "execution_count": 13,
   "metadata": {
    "Collapsed": "false"
   },
   "outputs": [
    {
     "name": "stdout",
     "output_type": "stream",
     "text": [
      "Video loading...\n",
      "Loaded video of 20.0 seconds with quality 960x540 in 0.82 seconds\n",
      "Transforming the video...\n",
      "Fitting of the scipy SVD model took 20.05 seconds\n",
      "Fitting of the truncated SVD model took 22.52 seconds\n",
      "Fitting of the randomized SVD model took 18.98 seconds\n"
     ]
    }
   ],
   "source": [
    "# SVD comparison on 20s grayscale\n",
    "from sklearn.utils.extmath import randomized_svd\n",
    "from sklearn.decomposition import TruncatedSVD\n",
    "from scipy.sparse.linalg import svds\n",
    "\n",
    "print('Video loading...')\n",
    "# Read the video\n",
    "start = time()\n",
    "sample_name = 'sample20s_540'\n",
    "frames, fps, width, height = read_video('data_generated/'+sample_name+'.mp4')\n",
    "nframes = frames.shape[0]\n",
    "print(f'Loaded video of {round(nframes/fps, 2)} seconds with quality {width}x{height} in {round(time()-start,2)} seconds')\n",
    "\n",
    "# Convert to gray scale\n",
    "print('Transforming the video...')\n",
    "gray_frames = np.zeros((nframes, height, width), dtype=np.uint8)\n",
    "for i, frame in enumerate(frames):\n",
    "    gray_frames[i] = cv2.cvtColor(frame, cv2.COLOR_BGR2GRAY)\n",
    "\n",
    "# Fit a SVD model\n",
    "start = time()\n",
    "u, s, vh = svds(gray_frames.reshape(gray_frames.shape[0], -1).astype(float), k=50)\n",
    "after_fit = time()\n",
    "after_transformations = time()\n",
    "print(f'Fitting of the scipy SVD model took {round(after_fit-start,2)} seconds')\n",
    "svd_model = TruncatedSVD(n_components=50)\n",
    "start = time()\n",
    "u, s, vh = svd_model.fit(gray_frames.reshape(gray_frames.shape[0], -1))\n",
    "after_fit = time()\n",
    "after_transformations = time()\n",
    "print(f'Fitting of the truncated SVD model took {round(after_fit-start,2)} seconds')\n",
    "start = time()\n",
    "u, s, vh = randomized_svd(gray_frames.reshape(gray_frames.shape[0], -1), 50)\n",
    "after_fit = time()\n",
    "after_transformations = time()\n",
    "print(f'Fitting of the randomized SVD model took {round(after_fit-start,2)} seconds')"
   ]
  },
  {
   "cell_type": "markdown",
   "metadata": {
    "Collapsed": "false"
   },
   "source": [
    "Numpy's SVD -> MemoryError: Unable to allocate 1.96 TiB for an array with shape (518400, 518400) and data type float64"
   ]
  },
  {
   "cell_type": "code",
   "execution_count": 16,
   "metadata": {
    "Collapsed": "false"
   },
   "outputs": [
    {
     "name": "stdout",
     "output_type": "stream",
     "text": [
      "Length: 1365.0s\n",
      "Frame per second: 24\n",
      "Quality: 1280x720\n",
      "1364.9583333333333\n"
     ]
    },
    {
     "data": {
      "text/plain": [
       "212.51076078414917"
      ]
     },
     "execution_count": 16,
     "metadata": {},
     "output_type": "execute_result"
    }
   ],
   "source": [
    "# Test scalability of iterator\n",
    "video = VideoIterator('/home/jules/videos/series/rick-and-morty/Rick and Morty s03e01.mkv', duration=np.inf, batch_size=240)\n",
    "print(f'Length: {video.duration}s\\nFrame per second: {video.fps}\\nQuality: {video.width}x{video.height}')\n",
    "\n",
    "start = time()\n",
    "for frames in video:\n",
    "    #u, s, vh = randomized_svd(frames.reshape(frames.shape[0], -1), 50)\n",
    "    #l, axes = np.linalg.eig(frames.reshape(frames.shape[0], -1))\n",
    "    frames = np.abs(frames ** 2) + 14*frames\n",
    "print(video.current_frame/video.fps)\n",
    "time() - start"
   ]
  }
 ],
 "metadata": {
  "kernelspec": {
   "display_name": "Python 3",
   "language": "python",
   "name": "python3"
  },
  "language_info": {
   "codemirror_mode": {
    "name": "ipython",
    "version": 3
   },
   "file_extension": ".py",
   "mimetype": "text/x-python",
   "name": "python",
   "nbconvert_exporter": "python",
   "pygments_lexer": "ipython3",
   "version": "3.8.5"
  }
 },
 "nbformat": 4,
 "nbformat_minor": 4
}
