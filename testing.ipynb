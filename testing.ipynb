{
 "cells": [
  {
   "cell_type": "code",
   "execution_count": 1,
   "metadata": {
    "Collapsed": "false"
   },
   "outputs": [],
   "source": [
    "%load_ext autoreload\n",
    "%autoreload 2\n",
    "\n",
    "import numpy as np\n",
    "import cv2\n",
    "import torch\n",
    "import torch.functional as F\n",
    "import torch.nn as nn\n",
    "from torch.optim import Adam\n",
    "from time import time, sleep\n",
    "\n",
    "from utils import *\n",
    "from custom_pca import custom_pca\n",
    "from video_loader import VideoLoader\n",
    "from autoencoders import *"
   ]
  },
  {
   "cell_type": "markdown",
   "metadata": {
    "Collapsed": "false"
   },
   "source": [
    "#### Example bug rotation\n",
    "\n",
    "[source](https://docs.opencv.org/master/dd/d43/tutorial_py_video_display.html)"
   ]
  },
  {
   "cell_type": "code",
   "execution_count": 33,
   "metadata": {
    "Collapsed": "false"
   },
   "outputs": [],
   "source": [
    "import numpy as np\n",
    "import cv2 as cv\n",
    "cap = cv.VideoCapture('data/experience/R25.mp4')\n",
    "# Define the codec and create VideoWriter object\n",
    "fourcc = cv.VideoWriter_fourcc(*'MP4V')\n",
    "out = cv.VideoWriter('data/rotation_bug.mp4', fourcc, 24.0, (1920, 1080))\n",
    "i = 0\n",
    "while cap.isOpened():\n",
    "    ret, frame = cap.read()\n",
    "    if not ret:\n",
    "        print(\"Can't receive frame (stream end?). Exiting ...\")\n",
    "        break\n",
    "        \n",
    "    # stop at ~6s\n",
    "    if i > 150:\n",
    "        break\n",
    "    i += 1\n",
    "    out.write(frame)\n",
    "# Release everything if job is finished\n",
    "cap.release()\n",
    "out.release()"
   ]
  },
  {
   "cell_type": "markdown",
   "metadata": {
    "Collapsed": "false"
   },
   "source": [
    "#### Transform video"
   ]
  },
  {
   "cell_type": "code",
   "execution_count": 13,
   "metadata": {
    "Collapsed": "false"
   },
   "outputs": [],
   "source": [
    "video = VideoLoader('data/experience/R25/R25.mp4', gray=True, scale=(256, 256))\n",
    "video.write('data/experience/R25/R25_gray_scaled.mp4')"
   ]
  },
  {
   "cell_type": "markdown",
   "metadata": {
    "Collapsed": "false"
   },
   "source": [
    "#### params"
   ]
  },
  {
   "cell_type": "code",
   "execution_count": 3,
   "metadata": {
    "Collapsed": "false"
   },
   "outputs": [],
   "source": [
    "ncomp = 50\n",
    "skip_frame = 3\n",
    "num_epoch = 30\n",
    "video = VideoLoader('data/experience/R25/R25_gray_scaled.mp4', gray=True, randit=True, skip_frame=skip_frame)"
   ]
  },
  {
   "cell_type": "markdown",
   "metadata": {
    "Collapsed": "false"
   },
   "source": [
    "### PCA"
   ]
  },
  {
   "cell_type": "code",
   "execution_count": 5,
   "metadata": {
    "Collapsed": "false"
   },
   "outputs": [],
   "source": [
    "model1 = custom_pca(ncomp)\n",
    "video.batch_size = np.inf\n",
    "video.torch = False\n",
    "\n",
    "t1 = time()\n",
    "for frames_fit in video:\n",
    "    model1.fit(frames_fit)\n",
    "t2 = time()"
   ]
  },
  {
   "cell_type": "code",
   "execution_count": 9,
   "metadata": {
    "Collapsed": "false"
   },
   "outputs": [],
   "source": [
    "video.randit = video.skip_frame = 0\n",
    "video.batch_size = 64\n",
    "t3 = time()\n",
    "reconstructed = video.reduce_latent(model1, trans=True)\n",
    "t4 = time()"
   ]
  },
  {
   "cell_type": "code",
   "execution_count": 10,
   "metadata": {
    "Collapsed": "false"
   },
   "outputs": [
    {
     "name": "stdout",
     "output_type": "stream",
     "text": [
      "Reconstruction error: 3.877609350923941\n"
     ]
    }
   ],
   "source": [
    "exact_loss = reconstruction_error(reconstructed,\n",
    "                                  video.get_all_frames())\n",
    "      \n",
    "print('Fitting time:', sec2string(t2-t1))\n",
    "print('Transform time:', sec2string(t4-t3))\n",
    "print('Reconstruction error:', exact_loss)"
   ]
  },
  {
   "cell_type": "code",
   "execution_count": 12,
   "metadata": {
    "Collapsed": "false"
   },
   "outputs": [],
   "source": [
    "write_video('data/experience/R25/R25_pca_50.mp4', reconstructed, video.width, video.height, video.fps, True)"
   ]
  },
  {
   "cell_type": "markdown",
   "metadata": {
    "Collapsed": "false"
   },
   "source": [
    "### PCA AE"
   ]
  },
  {
   "cell_type": "code",
   "execution_count": 14,
   "metadata": {
    "Collapsed": "false"
   },
   "outputs": [
    {
     "name": "stdout",
     "output_type": "stream",
     "text": [
      "ncomp -> 50, lr -> 0.0001, wd -> 0.1, nparams -> 6619186\n",
      "Loss at 0: 305.58094278971356 (took 43.0s, 358 frames)\n",
      "Loss at 1: 210.41419219970703 (took 41.3s, 358 frames)\n",
      "Loss at 2: 188.30128733317056 (took 41.3s, 358 frames)\n",
      "Loss at 3: 170.5029525756836 (took 42.4s, 358 frames)\n",
      "Loss at 4: 164.16704813639322 (took 44.7s, 358 frames)\n",
      "Loss at 5: 159.26025899251303 (took 43.6s, 358 frames)\n",
      "Loss at 6: 156.51292673746744 (took 44.1s, 358 frames)\n",
      "Loss at 7: 155.12157694498697 (took 44.2s, 358 frames)\n",
      "Loss at 8: 154.55227661132812 (took 42.9s, 358 frames)\n",
      "Loss at 9: 154.3581568400065 (took 42.6s, 358 frames)\n",
      "Loss at 10: 154.08846028645834 (took 42.6s, 358 frames)\n",
      "Loss at 11: 154.00265757242838 (took 41.6s, 358 frames)\n",
      "Loss at 12: 153.36788940429688 (took 42.0s, 358 frames)\n",
      "Loss at 13: 153.44606272379556 (took 42.3s, 358 frames)\n",
      "Loss at 14: 154.51869201660156 (took 41.6s, 358 frames)\n",
      "Loss at 15: 153.67655436197916 (took 42.8s, 358 frames)\n",
      "Loss at 16: 154.3872273763021 (took 46.2s, 358 frames)\n",
      "Loss at 17: 153.90319315592447 (took 45.9s, 358 frames)\n",
      "Loss at 18: 154.19634755452475 (took 46.1s, 358 frames)\n",
      "Loss at 19: 153.69692993164062 (took 44.2s, 358 frames)\n"
     ]
    }
   ],
   "source": [
    "video.torch = True\n",
    "video.batch_size = 64\n",
    "video.randit = True\n",
    "video.skip_frame = skip_frame\n",
    "\n",
    "model2 = PCAAutoEncoder((video.width, video.height), ncomp)\n",
    "\n",
    "for lr in [1e-4]:\n",
    "    for wd in [0.1]:\n",
    "        optimizer = Adam(model2.parameters(), lr=lr, weight_decay=wd)\n",
    "        print(f'ncomp -> {ncomp}, lr -> {lr}, wd -> {wd}, nparams -> {sum([p.numel() for p in model2.parameters()])}')\n",
    "        \n",
    "        losses = []\n",
    "        for i in range(20):\n",
    "            t1 = time()\n",
    "            epoch_loss = 0\n",
    "            nframe = 0\n",
    "            for x in video:\n",
    "                nframe += x.shape[0]\n",
    "                x_reconstructed = model2(x)\n",
    "                batch_loss = crit(x_reconstructed, x)\n",
    "                epoch_loss += batch_loss.item()\n",
    "\n",
    "                optimizer.zero_grad()\n",
    "                batch_loss.backward()\n",
    "                optimizer.step()\n",
    "\n",
    "            nbatch = np.ceil(video.duration_frames / (video.batch_size * (video.skip_frame+1)))\n",
    "            losses.append(epoch_loss / nbatch)\n",
    "            print('Loss at %d:' % i, losses[-1], f'(took {round(time()-t1, 1)}s, {nframe} frames)')\n"
   ]
  },
  {
   "cell_type": "code",
   "execution_count": 24,
   "metadata": {
    "Collapsed": "false"
   },
   "outputs": [
    {
     "name": "stdout",
     "output_type": "stream",
     "text": [
      "Fitting time: 14:25\n",
      "Transform time: 4.75\n",
      "Reconstruction error: 154.03314\n"
     ]
    }
   ],
   "source": [
    "video.randit = video.skip_frame = 0\n",
    "\n",
    "print('Fitting time:', sec2string(865.4))\n",
    "\n",
    "t3 = time()\n",
    "exact_loss = reconstruction_error(video.reduce_latent(model2, trans=False).numpy(), video.get_all_frames().squeeze().numpy())\n",
    "t4 = time()\n",
    "print('Transform time:', sec2string(t4-t3))\n",
    "\n",
    "print('Reconstruction error:', exact_loss)"
   ]
  },
  {
   "cell_type": "markdown",
   "metadata": {
    "Collapsed": "false"
   },
   "source": [
    "### Establishing baseline w.r.t PCA"
   ]
  },
  {
   "cell_type": "code",
   "execution_count": 15,
   "metadata": {
    "Collapsed": "false"
   },
   "outputs": [
    {
     "name": "stdout",
     "output_type": "stream",
     "text": [
      "ncomp -> 50, lr -> 0.001, wd -> 0.05, nparams -> 6619186\n",
      "Time taken for fitting with 30 epochs: 0:04:43.255647\n",
      "Time taken to transform: 23.56\n",
      "Reconstruction error: 17.841055\n"
     ]
    },
    {
     "data": {
      "image/png": "[encoded data removed]",
      "text/plain": [
       "<Figure size 1080x720 with 1 Axes>"
      ]
     },
     "metadata": {
      "needs_background": "light"
     },
     "output_type": "display_data"
    }
   ],
   "source": [
    "ncomp = 50\n",
    "video = VideoLoader('data/big_sample_256.mp4', duration=5*60, randit=True, skip_frame=3, grayscale=True)\n",
    "net = PCAAutoEncoder((video.width, video.height), ncomp)\n",
    "lr, wd, num_epoch = 0.001, 0.05, 30 # Tuned hyper-parameters\n",
    "optimizer = Adam(net.parameters(), lr=lr, weight_decay=wd)\n",
    "print(f'ncomp -> {ncomp}, lr -> {lr}, wd -> {wd}, nparams -> {sum([p.numel() for p in net.parameters()])}')\n",
    "\n",
    "\n",
    "start = time()\n",
    "losses = []\n",
    "for i in range(num_epoch):\n",
    "    epoch_loss = 0\n",
    "    num_batch  = 0\n",
    "    for x in video:\n",
    "        num_batch += 1\n",
    "        x = torch.from_numpy(x).float()\n",
    "        x_reconstructed = net(x)\n",
    "        batch_loss = crit(x_reconstructed, x)\n",
    "        epoch_loss += batch_loss.item()\n",
    "        \n",
    "        optimizer.zero_grad()\n",
    "        batch_loss.backward()\n",
    "        optimizer.step()\n",
    "        \n",
    "    losses.append(epoch_loss / num_batch)\n",
    "fitting_time = sec2string(time() - start)\n",
    "\n",
    "video.randit = video.skip_frame = 0\n",
    "start = time()\n",
    "\n",
    "reconstructed = []\n",
    "for x in video:\n",
    "    x = torch.from_numpy(x).float()\n",
    "    reconstructed.append(net(x).detach().numpy())\n",
    "reconstructed = np.vstack(reconstructed)\n",
    "transform_time = sec2string(time() - start)\n",
    "\n",
    "exact_loss = reconstruction_error(reconstructed,\n",
    "                                  video.get_all_frames())\n",
    "      \n",
    "print(f'Time taken for fitting with {num_epoch} epochs:', fitting_time)\n",
    "print('Time taken to transform:', transform_time)\n",
    "\n",
    "print('Reconstruction error:', exact_loss)\n",
    "losses = np.array(losses)\n",
    "plot(range(1, num_epoch+1), [losses], title='Evolution of the loss', xlabel='Epochs', ylabel='Error', labels=['lr: 0.001, wd: 0.05'])"
   ]
  },
  {
   "cell_type": "markdown",
   "metadata": {
    "Collapsed": "false"
   },
   "source": [
    "As a comparison for PCA:\n",
    "Error of 7.45 after 36s of fitting time"
   ]
  },
  {
   "cell_type": "code",
   "execution_count": 16,
   "metadata": {
    "Collapsed": "false"
   },
   "outputs": [],
   "source": [
    "write_video('data/big_sample_pcaae_50.mp4', reconstructed, video.width, video.height, video.fps, grayscale=True)"
   ]
  },
  {
   "cell_type": "markdown",
   "metadata": {
    "Collapsed": "false"
   },
   "source": [
    "## Adding layers"
   ]
  },
  {
   "cell_type": "markdown",
   "metadata": {
    "Collapsed": "false"
   },
   "source": [
    "### One-hidden"
   ]
  },
  {
   "cell_type": "code",
   "execution_count": 3,
   "metadata": {
    "Collapsed": "false"
   },
   "outputs": [
    {
     "name": "stdout",
     "output_type": "stream",
     "text": [
      "ncomp -> 50, lr -> 0.0005, wd -> 0.01, nparams -> 26300386\n",
      "Time taken for fitting with 30 epochs: 8:52\n",
      "Time taken to transform: 28.68\n",
      "Reconstruction error: 14.618819236755371\n"
     ]
    },
    {
     "data": {
      "image/png": "[encoded data removed]",
      "text/plain": [
       "<Figure size 1080x720 with 1 Axes>"
      ]
     },
     "metadata": {
      "needs_background": "light"
     },
     "output_type": "display_data"
    }
   ],
   "source": [
    "ncomp = 50\n",
    "video = VideoLoader('data/big_sample_256.mp4', duration=5*60, randit=True, skip_frame=3, gray=True)\n",
    "net = OneAutoEncoder((video.width, video.height), ncomp)\n",
    "lr, wd, num_epoch = 0.0005, 0.01, 30\n",
    "optimizer = Adam(net.parameters(), lr=lr, weight_decay=wd)\n",
    "print(f'ncomp -> {ncomp}, lr -> {lr}, wd -> {wd}, nparams -> {sum([p.numel() for p in net.parameters()])}')\n",
    "\n",
    "start = time()\n",
    "losses = []\n",
    "for i in range(num_epoch):\n",
    "    epoch_loss = 0\n",
    "    num_batch  = 0\n",
    "    for x in video:\n",
    "        num_batch += 1\n",
    "        x_reconstructed = net(x)\n",
    "        batch_loss = crit(x_reconstructed, x)\n",
    "        epoch_loss += batch_loss.item()\n",
    "    \n",
    "        optimizer.zero_grad()\n",
    "        batch_loss.backward()\n",
    "        optimizer.step()\n",
    "        \n",
    "    losses.append(epoch_loss / num_batch)\n",
    "fitting_time = sec2string(time() - start)\n",
    "start = time()\n",
    "reconstructed = video.reduce_latent(net)\n",
    "transform_time = sec2string(time() - start)\n",
    "\n",
    "exact_loss = crit(reconstructed, video.get_all_frames()).item()\n",
    "      \n",
    "print(f'Time taken for fitting with {num_epoch} epochs:', fitting_time)\n",
    "print('Time taken to transform:', transform_time)\n",
    "\n",
    "print('Reconstruction error:', exact_loss)\n",
    "losses = np.array(losses)\n",
    "plot(range(1, num_epoch+1), [losses], title='Evolution of the loss', xlabel='Epochs', ylabel='Error', labels=['lr: 0.001, wd: 0.05'])"
   ]
  },
  {
   "cell_type": "markdown",
   "metadata": {
    "Collapsed": "false"
   },
   "source": [
    "### Trying convolutions"
   ]
  },
  {
   "cell_type": "code",
   "execution_count": 13,
   "metadata": {
    "Collapsed": "false"
   },
   "outputs": [
    {
     "name": "stdout",
     "output_type": "stream",
     "text": [
      "ncomp -> 50, lr -> 0.0005, wd -> 0.0005, nparams -> 5142131\n",
      "Time taken for fitting with 30 epochs: 1:15:04\n",
      "Time taken to transform: 3:36\n",
      "Reconstruction error:\n"
     ]
    },
    {
     "data": {
      "image/png": "[encoded data removed]",
      "text/plain": [
       "<Figure size 1080x720 with 1 Axes>"
      ]
     },
     "metadata": {
      "needs_background": "light"
     },
     "output_type": "display_data"
    }
   ],
   "source": [
    "ncomp = 50\n",
    "video = VideoLoader('data/big_sample_256.mp4', duration=5*60, randit=True, skip_frame=3, gray=True)\n",
    "\n",
    "num_epoch = 1\n",
    "for lr in [5e-4]:\n",
    "    for wd in [5e-4]:\n",
    "        net = SpatialConvAE(1, ncomp)\n",
    "        optimizer = Adam(net.parameters(), lr=lr, weight_decay=wd)\n",
    "        print(f'ncomp -> {ncomp}, lr -> {lr}, wd -> {wd}, nparams -> {sum([p.numel() for p in net.parameters()])}')\n",
    "    \n",
    "        start = time()\n",
    "        losses = []\n",
    "        for i in range(num_epoch):\n",
    "            epoch_loss = 0\n",
    "            num_batch  = 0\n",
    "            for x in video:\n",
    "                num_batch += 1\n",
    "                x_reconstructed = net(x)\n",
    "                batch_loss = crit(x_reconstructed, x)\n",
    "                epoch_loss += batch_loss.item()\n",
    "            \n",
    "                optimizer.zero_grad()\n",
    "                batch_loss.backward()\n",
    "                optimizer.step()\n",
    "            losses.append(epoch_loss / num_batch)\n",
    "            \n",
    "fitting_time = sec2string(time() - start)\n",
    "start = time()\n",
    "reconstructed = video.reduce_latent(net)\n",
    "transform_time = sec2string(time() - start)\n",
    "\n",
    "print(transform_time)\n",
    "\n",
    "#exact_loss = crit(reconstructed, video.get_all_frames()).item()\n",
    "print('ncomp -> 50, lr -> 0.0005, wd -> 0.0005, nparams -> 5142131')\n",
    "print(f'Time taken for fitting with {num_epoch} epochs:', fitting_time)\n",
    "print('Time taken to transform:', transform_time)\n",
    "\n",
    "print('Reconstruction error:')#, exact_loss)\n",
    "plot(range(1, num_epoch+1), [losses], title='Evolution of the loss', xlabel='Epochs', ylabel='Error', labels=['lr: 5e-4, wd: 5e-4'])"
   ]
  },
  {
   "cell_type": "markdown",
   "metadata": {
    "Collapsed": "false"
   },
   "source": [
    "Note: the exact loss is false, kernel died during computation"
   ]
  },
  {
   "cell_type": "markdown",
   "metadata": {
    "Collapsed": "false"
   },
   "source": [
    "# TRASH"
   ]
  },
  {
   "cell_type": "code",
   "execution_count": 26,
   "metadata": {
    "Collapsed": "false"
   },
   "outputs": [],
   "source": [
    "import cv2\n",
    "import numpy as np\n",
    "# Create a VideoCapture object\n",
    "cap = cv2.VideoCapture('data/experience/R25.mp4')\n",
    "\n",
    "# Check if camera opened successfully\n",
    "if (cap.isOpened() == False): \n",
    "    print(\"Unable to read camera feed\")\n",
    "# Default resolutions of the frame are obtained.The default resolutions are system dependent.\n",
    "# We convert the resolutions from float to integer.\n",
    "frame_width = int(cap.get(3))\n",
    "frame_height = int(cap.get(4))\n",
    "# Define the codec and create VideoWriter object.The output is stored in 'outpy.avi' file.\n",
    "out = cv2.VideoWriter('outpy.mp4',cv2.VideoWriter_fourcc(*\"MP4V\"), 24, (frame_height//2,frame_width//2), 0)\n",
    "while(True):\n",
    "    ret, frame = cap.read()\n",
    "    if ret == True: \n",
    "        frame = np.transpose(frame, axes=[1,0, 2])\n",
    "        frame = cv2.cvtColor(frame, cv2.COLOR_BGR2GRAY)\n",
    "    # Write the frame into the file 'output.avi'\n",
    "        frame = cv2.resize(frame, (frame_height//2, frame_width//2), interpolation=cv2.INTER_AREA)\n",
    "        out.write(frame)\n",
    "    # Display the resulting frame\n",
    "    # Press Q on keyboard to stop recording\n",
    "  # Break the loop\n",
    "    else:\n",
    "        break \n",
    "# When everything done, release the video capture and video write objects\n",
    "cap.release()\n",
    "out.release()"
   ]
  },
  {
   "cell_type": "code",
   "execution_count": 17,
   "metadata": {
    "Collapsed": "false"
   },
   "outputs": [],
   "source": [
    "cv2.destroyAllWindows()"
   ]
  }
 ],
 "metadata": {
  "kernelspec": {
   "display_name": "Python 3",
   "language": "python",
   "name": "python3"
  },
  "language_info": {
   "codemirror_mode": {
    "name": "ipython",
    "version": 3
   },
   "file_extension": ".py",
   "mimetype": "text/x-python",
   "name": "python",
   "nbconvert_exporter": "python",
   "pygments_lexer": "ipython3",
   "version": "3.8.5"
  }
 },
 "nbformat": 4,
 "nbformat_minor": 4
}
