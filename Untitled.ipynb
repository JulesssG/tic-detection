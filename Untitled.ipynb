{
 "cells": [
  {
   "cell_type": "code",
   "execution_count": 6,
   "metadata": {
    "Collapsed": "false"
   },
   "outputs": [],
   "source": [
    "from time import time\n",
    "import numpy as np\n",
    "import torch\n",
    "from torch import nn\n",
    "from torch.optim import Adam\n",
    "\n",
    "from utils import *\n",
    "from video_loader import *\n",
    "from custom_pca import *\n",
    "from autoencoders import *"
   ]
  },
  {
   "cell_type": "code",
   "execution_count": 9,
   "metadata": {
    "Collapsed": "false"
   },
   "outputs": [
    {
     "name": "stdout",
     "output_type": "stream",
     "text": [
      "Number of parameters: 6619186\n",
      "Average loss per pixel at epoch 1: 3.819139097866259\n",
      "Average loss per pixel at epoch 2: 1.1305985591913525\n",
      "Average loss per pixel at epoch 3: 0.9405009166190499\n",
      "Average loss per pixel at epoch 4: 0.8971335683998308\n",
      "Average loss per pixel at epoch 5: 0.7498387631617094\n",
      "Average loss per pixel at epoch 6: 0.6497108387319666\n",
      "Average loss per pixel at epoch 7: 0.5919121378346494\n",
      "Average loss per pixel at epoch 8: 0.5617478019312808\n",
      "Average loss per pixel at epoch 9: 0.5373861421095697\n",
      "Average loss per pixel at epoch 10: 0.5230564106451837\n",
      "Average loss per pixel at epoch 11: 0.5185200454373109\n",
      "Average loss per pixel at epoch 12: 0.5085616896027013\n",
      "Average loss per pixel at epoch 13: 0.49967043258641897\n",
      "Average loss per pixel at epoch 14: 0.49815335869789124\n",
      "Average loss per pixel at epoch 15: 0.4848298524555407\n",
      "Average loss per pixel at epoch 16: 0.47885864737786743\n",
      "Average loss per pixel at epoch 17: 0.4781536138371417\n",
      "Average loss per pixel at epoch 18: 0.4764994782836814\n",
      "Average loss per pixel at epoch 19: 0.479406705812404\n",
      "Average loss per pixel at epoch 20: 0.4774549783844697\n",
      "Error after 20 epochs: 22.256992\n",
      "Time taken for fitting with 21 epochs: 354.1318311691284 sec\n",
      "Time taken to transform: 31.437947750091553 sec\n"
     ]
    },
    {
     "data": {
      "image/png": "[encoded data removed]",
      "text/plain": [
       "<Figure size 1080x720 with 1 Axes>"
      ]
     },
     "metadata": {
      "needs_background": "light"
     },
     "output_type": "display_data"
    }
   ],
   "source": [
    "video = VideoLoader('data/big_sample_256.mp4', duration=5*60, randit=True, skip_frame=2, grayscale=True)\n",
    "num_epoch = 20\n",
    "net = PCAAutoEncoder((video.width, video.height), 50)\n",
    "optimizer = Adam(net.parameters(), lr=0.001, weight_decay=0.005)\n",
    "\n",
    "print(f'Number of parameters:', sum([p.numel() for p in net.parameters()]))\n",
    "losses = []\n",
    "start = time()\n",
    "mean, std = np.mean(video.get_all_frames()), np.std(video.get_all_frames())\n",
    "for i in range(num_epoch):\n",
    "    batch_losses = []\n",
    "    num_in_batch = []\n",
    "    for x in video:\n",
    "        num_in_batch.append(x.shape[0])\n",
    "        x = torch.from_numpy(x).float()\n",
    "        x = (x-mean) / std\n",
    "        x_reconstructed = net(x)\n",
    "        batch_loss = crit(x_reconstructed, x)\n",
    "        batch_losses.append(batch_loss.item())\n",
    "        optimizer.zero_grad()\n",
    "        batch_loss.backward()\n",
    "        optimizer.step()\n",
    "    losses.append(np.mean(batch_losses))\n",
    "    print(f'Average loss per pixel at epoch {i+1}:', losses[-1])\n",
    "\n",
    "fitting_time = time() - start\n",
    "video.randit = video.skip_frame = 0\n",
    "\n",
    "start = time()\n",
    "\n",
    "reconstructed = []\n",
    "for x in video:\n",
    "    x = torch.from_numpy(x).float()\n",
    "    x = (x-mean) / std\n",
    "    reconstructed.append((net(x).detach().numpy()*std)+mean)\n",
    "reconstructed = np.vstack(reconstructed)\n",
    "transform_time = time() - start\n",
    "\n",
    "exact_loss = reconstruction_error(reconstructed,\n",
    "                                  video.get_all_frames())\n",
    "print(\"Error after %s epochs:\" % num_epoch, exact_loss)\n",
    "      \n",
    "print(f'Time taken for fitting with {num_epoch+1} epochs:', fitting_time, 'sec')\n",
    "print('Time taken to transform:', transform_time, 'sec')\n",
    "losses = np.array(losses)\n",
    "    \n",
    "plot(range(1, num_epoch+1), [losses])"
   ]
  },
  {
   "cell_type": "markdown",
   "metadata": {
    "Collapsed": "false"
   },
   "source": [
    "### Trash"
   ]
  },
  {
   "cell_type": "code",
   "execution_count": 4,
   "metadata": {
    "Collapsed": "false"
   },
   "outputs": [
    {
     "name": "stdout",
     "output_type": "stream",
     "text": [
      "Number of parameters for 100 components: 57285\n"
     ]
    },
    {
     "ename": "KeyboardInterrupt",
     "evalue": "",
     "output_type": "error",
     "traceback": [
      "\u001b[0;31m---------------------------------------------------------------------------\u001b[0m",
      "\u001b[0;31mKeyboardInterrupt\u001b[0m                         Traceback (most recent call last)",
      "\u001b[0;32m<ipython-input-4-d0c85df7e786>\u001b[0m in \u001b[0;36m<module>\u001b[0;34m\u001b[0m\n\u001b[1;32m     21\u001b[0m     \u001b[0mbatch_losses\u001b[0m \u001b[0;34m=\u001b[0m \u001b[0;34m[\u001b[0m\u001b[0;34m]\u001b[0m\u001b[0;34m\u001b[0m\u001b[0;34m\u001b[0m\u001b[0m\n\u001b[1;32m     22\u001b[0m     \u001b[0mnum_in_batch\u001b[0m \u001b[0;34m=\u001b[0m \u001b[0;34m[\u001b[0m\u001b[0;34m]\u001b[0m\u001b[0;34m\u001b[0m\u001b[0;34m\u001b[0m\u001b[0m\n\u001b[0;32m---> 23\u001b[0;31m     \u001b[0;32mfor\u001b[0m \u001b[0mx\u001b[0m \u001b[0;32min\u001b[0m \u001b[0mvideo\u001b[0m\u001b[0;34m:\u001b[0m\u001b[0;34m\u001b[0m\u001b[0;34m\u001b[0m\u001b[0m\n\u001b[0m\u001b[1;32m     24\u001b[0m         \u001b[0mnum_in_batch\u001b[0m\u001b[0;34m.\u001b[0m\u001b[0mappend\u001b[0m\u001b[0;34m(\u001b[0m\u001b[0mx\u001b[0m\u001b[0;34m.\u001b[0m\u001b[0mshape\u001b[0m\u001b[0;34m[\u001b[0m\u001b[0;36m0\u001b[0m\u001b[0;34m]\u001b[0m\u001b[0;34m)\u001b[0m\u001b[0;34m\u001b[0m\u001b[0;34m\u001b[0m\u001b[0m\n\u001b[1;32m     25\u001b[0m         \u001b[0mx\u001b[0m \u001b[0;34m=\u001b[0m \u001b[0mtorch\u001b[0m\u001b[0;34m.\u001b[0m\u001b[0mfrom_numpy\u001b[0m\u001b[0;34m(\u001b[0m\u001b[0mx\u001b[0m\u001b[0;34m)\u001b[0m\u001b[0;34m.\u001b[0m\u001b[0mfloat\u001b[0m\u001b[0;34m(\u001b[0m\u001b[0;34m)\u001b[0m\u001b[0;34m.\u001b[0m\u001b[0munsqueeze\u001b[0m\u001b[0;34m(\u001b[0m\u001b[0;36m1\u001b[0m\u001b[0;34m)\u001b[0m\u001b[0;34m\u001b[0m\u001b[0;34m\u001b[0m\u001b[0m\n",
      "\u001b[0;32m~/documents/epfl/ma3/project/video_loader.py\u001b[0m in \u001b[0;36m__next__\u001b[0;34m(self)\u001b[0m\n\u001b[1;32m     91\u001b[0m \u001b[0;34m\u001b[0m\u001b[0m\n\u001b[1;32m     92\u001b[0m             \u001b[0;32mif\u001b[0m \u001b[0mret\u001b[0m\u001b[0;34m:\u001b[0m\u001b[0;34m\u001b[0m\u001b[0;34m\u001b[0m\u001b[0m\n\u001b[0;32m---> 93\u001b[0;31m                 \u001b[0mframes\u001b[0m\u001b[0;34m.\u001b[0m\u001b[0mappend\u001b[0m\u001b[0;34m(\u001b[0m\u001b[0mself\u001b[0m\u001b[0;34m.\u001b[0m\u001b[0mframe_transform\u001b[0m\u001b[0;34m(\u001b[0m\u001b[0mframe\u001b[0m\u001b[0;34m)\u001b[0m\u001b[0;34m)\u001b[0m\u001b[0;34m\u001b[0m\u001b[0;34m\u001b[0m\u001b[0m\n\u001b[0m\u001b[1;32m     94\u001b[0m                 \u001b[0mself\u001b[0m\u001b[0;34m.\u001b[0m\u001b[0m__frame_count\u001b[0m \u001b[0;34m+=\u001b[0m \u001b[0;36m1\u001b[0m\u001b[0;34m\u001b[0m\u001b[0;34m\u001b[0m\u001b[0m\n\u001b[1;32m     95\u001b[0m             \u001b[0;32melse\u001b[0m\u001b[0;34m:\u001b[0m\u001b[0;34m\u001b[0m\u001b[0;34m\u001b[0m\u001b[0m\n",
      "\u001b[0;32m~/documents/epfl/ma3/project/video_loader.py\u001b[0m in \u001b[0;36mframe_transform\u001b[0;34m(self, frame)\u001b[0m\n\u001b[1;32m     65\u001b[0m             \u001b[0mframe\u001b[0m \u001b[0;34m=\u001b[0m \u001b[0mcv2\u001b[0m\u001b[0;34m.\u001b[0m\u001b[0mcvtColor\u001b[0m\u001b[0;34m(\u001b[0m\u001b[0mframe\u001b[0m\u001b[0;34m,\u001b[0m \u001b[0mcv2\u001b[0m\u001b[0;34m.\u001b[0m\u001b[0mCOLOR_BGR2GRAY\u001b[0m\u001b[0;34m)\u001b[0m\u001b[0;34m\u001b[0m\u001b[0;34m\u001b[0m\u001b[0m\n\u001b[1;32m     66\u001b[0m         \u001b[0;32mif\u001b[0m \u001b[0mself\u001b[0m\u001b[0;34m.\u001b[0m\u001b[0mscale\u001b[0m\u001b[0;34m:\u001b[0m\u001b[0;34m\u001b[0m\u001b[0;34m\u001b[0m\u001b[0m\n\u001b[0;32m---> 67\u001b[0;31m             \u001b[0mframe\u001b[0m \u001b[0;34m=\u001b[0m \u001b[0mcv2\u001b[0m\u001b[0;34m.\u001b[0m\u001b[0mresize\u001b[0m\u001b[0;34m(\u001b[0m\u001b[0mframe\u001b[0m\u001b[0;34m,\u001b[0m \u001b[0;34m(\u001b[0m\u001b[0mself\u001b[0m\u001b[0;34m.\u001b[0m\u001b[0mwidth\u001b[0m\u001b[0;34m,\u001b[0m \u001b[0mself\u001b[0m\u001b[0;34m.\u001b[0m\u001b[0mheight\u001b[0m\u001b[0;34m)\u001b[0m\u001b[0;34m,\u001b[0m \u001b[0minterpolation\u001b[0m\u001b[0;34m=\u001b[0m\u001b[0mcv2\u001b[0m\u001b[0;34m.\u001b[0m\u001b[0mINTER_AREA\u001b[0m\u001b[0;34m)\u001b[0m\u001b[0;34m\u001b[0m\u001b[0;34m\u001b[0m\u001b[0m\n\u001b[0m\u001b[1;32m     68\u001b[0m \u001b[0;34m\u001b[0m\u001b[0m\n\u001b[1;32m     69\u001b[0m         \u001b[0;32mreturn\u001b[0m \u001b[0mframe\u001b[0m\u001b[0;34m\u001b[0m\u001b[0;34m\u001b[0m\u001b[0m\n",
      "\u001b[0;31mKeyboardInterrupt\u001b[0m: "
     ]
    }
   ],
   "source": [
    "import torch\n",
    "from torch.optim import Adam\n",
    "from utils import *\n",
    "from autoencoders import *\n",
    "from video_loader import *\n",
    "from time import time\n",
    "\n",
    "video = VideoLoader('data/experience/TicDetectorCam_Front_vertical.mp4', grayscale=True, skip_frame=3, randit=True, scale=(256,256))\n",
    "\n",
    "num_epoch = 7\n",
    "ncomp = 100\n",
    "network = BasicAutoEncoder(1, ncomp)\n",
    "optimizer = Adam(network.parameters(), lr=0.0005)\n",
    "\n",
    "\n",
    "print(f'Number of parameters for {network.ncomp} components:', sum([p.numel() for p in network.parameters()]))\n",
    "losses = []\n",
    "networks = []\n",
    "start = time()\n",
    "for i in range(num_epoch):\n",
    "    batch_losses = []\n",
    "    num_in_batch = []\n",
    "    for x in video:\n",
    "        num_in_batch.append(x.shape[0])\n",
    "        x = torch.from_numpy(x).float().unsqueeze(1)\n",
    "        x_low, shape = network.transform(x)\n",
    "        x_reconstructed = network.inverse_transform(x_low, shape)\n",
    "        batch_loss = crit(x_reconstructed, x)\n",
    "        batch_losses.append(batch_loss.item())\n",
    "        optimizer.zero_grad()\n",
    "        batch_loss.backward()\n",
    "        optimizer.step()\n",
    "    losses.append(np.mean(batch_losses))\n",
    "    print(f'Average loss per pixel at epoch {i+1}:', losses[-1])\n",
    "\n",
    "fitting_time = time() - start\n",
    "\n",
    "video.randit = video.skip_frame = 0\n",
    "start = time()\n",
    "\n",
    "reconstructed = []\n",
    "for x in video:\n",
    "    x = torch.from_numpy(x).float().unsqueeze(1)\n",
    "    x_low, shape = network.transform(x)\n",
    "    x = (x-mean) / std\n",
    "    reconstructed.append(network.inverse_transform(x_low, shape).squeeze(1).detach().numpy())\n",
    "reconstructed = np.vstack(reconstructed)\n",
    "transform_time = time() - start\n",
    "\n",
    "exact_loss = reconstruction_error(reconstructed,\n",
    "                                 video.get_all_frames())\n",
    "print(\"Error after %s epochs:\" % num_epoch, exact_loss)\n",
    "      \n",
    "print(f'Time taken for fitting with {num_epoch+1} epochs:', fitting_time, 'sec')\n",
    "print('Time taken to transform:', transform_time, 'sec')\n",
    "losses = np.array(losses)\n",
    "    \n",
    "plot(range(1, num_epoch+1), [losses])\n",
    "exact_loss = reconstruction_error(reconstructed,\n",
    "                                  video.get_all_frames())\n",
    "print(\"Error after %s epochs:\" % num_epoch, exact_loss)\n",
    "      \n",
    "print(f'Time taken for fitting with {num_epoch+1} epochs:', fitting_time, 'sec')\n",
    "print('Time taken to transform:', transform_time, 'sec')\n",
    "losses = np.array(losses)\n",
    "    \n",
    "plot(range(1, num_epoch+1), [losses])"
   ]
  }
 ],
 "metadata": {
  "kernelspec": {
   "display_name": "Python 3",
   "language": "python",
   "name": "python3"
  },
  "language_info": {
   "codemirror_mode": {
    "name": "ipython",
    "version": 3
   },
   "file_extension": ".py",
   "mimetype": "text/x-python",
   "name": "python",
   "nbconvert_exporter": "python",
   "pygments_lexer": "ipython3",
   "version": "3.8.5"
  }
 },
 "nbformat": 4,
 "nbformat_minor": 4
}
